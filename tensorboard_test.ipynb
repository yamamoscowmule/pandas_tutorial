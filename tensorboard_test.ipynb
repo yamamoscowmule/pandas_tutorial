{
 "cells": [
  {
   "cell_type": "code",
   "execution_count": 1,
   "metadata": {},
   "outputs": [
    {
     "name": "stdout",
     "output_type": "stream",
     "text": [
      "Step: 10000, Loss: 236.498520\n",
      "Step: 20000, Loss: 15.957458\n",
      "Step: 30000, Loss: 15.397224\n",
      "Step: 40000, Loss: 14.942535\n",
      "Step: 50000, Loss: 14.537667\n",
      "Step: 60000, Loss: 14.162298\n",
      "Step: 70000, Loss: 15.303836\n",
      "Step: 80000, Loss: 13.546728\n",
      "Step: 90000, Loss: 575.119751\n",
      "Step: 100000, Loss: 12.884917\n"
     ]
    }
   ],
   "source": [
    "# 必要なライブラリのインポート\n",
    "import tensorflow as tf\n",
    "import numpy as np\n",
    "\n",
    "# 変数の定義\n",
    "dim = 5\n",
    "x = tf.placeholder(tf.float32, [None, dim + 1])\n",
    "w = tf.Variable(tf.zeros([dim+1,1]))\n",
    "y = tf.matmul(x,w)\n",
    "t = tf.placeholder(tf.float32, [None, 1])\n",
    "sess = tf.Session()\n",
    "\n",
    "# 損失関数と学習メソッドの定義\n",
    "loss = tf.reduce_sum(tf.square(y - t))\n",
    "train_step = tf.train.AdamOptimizer().minimize(loss)\n",
    "\n",
    "# セッションの初期化と入力データの準備\n",
    "sess.run(tf.global_variables_initializer())\n",
    "with tf.name_scope('summary'):\n",
    "    tf.summary.scalar('loss', loss)\n",
    "    merged = tf.summary.merge_all()\n",
    "    writer = tf.summary.FileWriter('./logs', sess.graph)\n",
    "\n",
    "train_t = np.array([5.2, 5.7, 8.6, 14.9, 18.2, 20.4,25.5, 26.4, 22.8, 17.5, 11.1, 6.6])\n",
    "train_t = train_t.reshape([12,1])\n",
    "train_x = np.zeros([12, dim+1])\n",
    "for row, month in enumerate(range(1, 13)):\n",
    "    for col, n in enumerate(range(0, dim+1)):\n",
    "        train_x[row][col] = month**n\n",
    "\n",
    "# 学習\n",
    "\n",
    "i = 0\n",
    "for _ in range(100000):\n",
    "    i += 1\n",
    "    sess.run(train_step, feed_dict={x: train_x, t: train_t})\n",
    "    if i % 10000 == 0:\n",
    "        loss_val = sess.run(loss, feed_dict={x: train_x, t: train_t})\n",
    "        print('Step: %d, Loss: %f' % (i, loss_val))"
   ]
  },
  {
   "cell_type": "code",
   "execution_count": 2,
   "metadata": {},
   "outputs": [
    {
     "ename": "SyntaxError",
     "evalue": "invalid syntax (<ipython-input-2-0a6f827583f3>, line 1)",
     "output_type": "error",
     "traceback": [
      "\u001b[0;36m  File \u001b[0;32m\"<ipython-input-2-0a6f827583f3>\"\u001b[0;36m, line \u001b[0;32m1\u001b[0m\n\u001b[0;31m    tensorboard --logdir=./logs\u001b[0m\n\u001b[0m                         ^\u001b[0m\n\u001b[0;31mSyntaxError\u001b[0m\u001b[0;31m:\u001b[0m invalid syntax\n"
     ]
    }
   ],
   "source": []
  },
  {
   "cell_type": "code",
   "execution_count": null,
   "metadata": {},
   "outputs": [],
   "source": []
  }
 ],
 "metadata": {
  "kernelspec": {
   "display_name": "Python 3",
   "language": "python",
   "name": "python3"
  },
  "language_info": {
   "codemirror_mode": {
    "name": "ipython",
    "version": 3
   },
   "file_extension": ".py",
   "mimetype": "text/x-python",
   "name": "python",
   "nbconvert_exporter": "python",
   "pygments_lexer": "ipython3",
   "version": "3.7.2"
  }
 },
 "nbformat": 4,
 "nbformat_minor": 4
}
