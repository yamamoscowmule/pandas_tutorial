{
 "cells": [
  {
   "cell_type": "code",
   "execution_count": 1,
   "metadata": {},
   "outputs": [],
   "source": [
    "import tensorflow as tf\n",
    "\n",
    "if __name__ == \"__main__\":\n",
    "\n",
    "    sess = tf.InteractiveSession()\n",
    "\n",
    "    # tensorboardログ出力ディレクトリ\n",
    "    log_dir = \"./log\"\n",
    "    \n",
    "    # 計算グラフ定義\n",
    "    a = tf.constant(1, name='a')\n",
    "    b = tf.Variable(2, name='b')\n",
    "    op_add = tf.add(a , b)\n",
    "    assign_op = tf.assign(b,op_add)\n",
    "\n",
    "    summary_assign = tf.summary.scalar('assign_op', assign_op)\n",
    "    summary_writer = tf.summary.FileWriter(log_dir , sess.graph)\n",
    "    \n",
    "    # 実行\n",
    "    with tf.Session() as sess:\n",
    "        sess.run(tf.global_variables_initializer())\n",
    "        for i in range(10):\n",
    "            sess.run(assign_op)\n",
    "            summary = sess.run(summary_assign)\n",
    "            summary_writer.add_summary(summary,i)\n",
    "\n",
    "    # SummaryWriterクローズ\n",
    "    summary_writer.close()"
   ]
  },
  {
   "cell_type": "code",
   "execution_count": 1,
   "metadata": {},
   "outputs": [],
   "source": []
  },
  {
   "cell_type": "code",
   "execution_count": null,
   "metadata": {},
   "outputs": [],
   "source": []
  }
 ],
 "metadata": {
  "kernelspec": {
   "display_name": "Python 3",
   "language": "python",
   "name": "python3"
  },
  "language_info": {
   "codemirror_mode": {
    "name": "ipython",
    "version": 3
   },
   "file_extension": ".py",
   "mimetype": "text/x-python",
   "name": "python",
   "nbconvert_exporter": "python",
   "pygments_lexer": "ipython3",
   "version": "3.7.2"
  }
 },
 "nbformat": 4,
 "nbformat_minor": 4
}
