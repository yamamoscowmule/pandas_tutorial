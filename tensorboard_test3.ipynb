{
 "cells": [
  {
   "cell_type": "code",
   "execution_count": 1,
   "metadata": {},
   "outputs": [],
   "source": [
    "import tensorflow as tf\n",
    "\n",
    "sess = tf.InteractiveSession()\n",
    "\n",
    "const = tf.constant(5)\n",
    "var = tf.Variable(10)\n",
    "calc_op = var * const\n",
    "assign_op = tf.assign(var,calc_op)\n",
    "\n",
    "summary_assign = tf.summary.scalar('assign_op',assign_op)\n",
    "summary_writer = tf.summary.FileWriter(\"./log\" , sess.graph)\n",
    "\n",
    "with tf.Session() as sess:\n",
    "    sess.run(tf.global_variables_initializer())\n",
    "    for i in range(10):\n",
    "        sess.run(var)\n",
    "        summary = sess.run(summary_assign)\n",
    "        summary_writer.add_summary(summary,i)\n",
    "        \n",
    "summary_writer.close()"
   ]
  },
  {
   "cell_type": "code",
   "execution_count": null,
   "metadata": {},
   "outputs": [],
   "source": []
  }
 ],
 "metadata": {
  "kernelspec": {
   "display_name": "Python 3",
   "language": "python",
   "name": "python3"
  },
  "language_info": {
   "codemirror_mode": {
    "name": "ipython",
    "version": 3
   },
   "file_extension": ".py",
   "mimetype": "text/x-python",
   "name": "python",
   "nbconvert_exporter": "python",
   "pygments_lexer": "ipython3",
   "version": "3.7.2"
  }
 },
 "nbformat": 4,
 "nbformat_minor": 4
}
