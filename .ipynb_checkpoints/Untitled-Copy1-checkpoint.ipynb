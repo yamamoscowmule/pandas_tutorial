{
 "cells": [
  {
   "cell_type": "code",
   "execution_count": 1,
   "metadata": {
    "slideshow": {
     "slide_type": "slide"
    }
   },
   "outputs": [],
   "source": [
    "import csv\n",
    "import pandas as pd\n",
    "import numpy as np\n",
    "import matplotlib.pyplot as plt\n",
    "from sklearn.preprocessing import MinMaxScaler\n",
    "from sklearn.metrics import mean_absolute_error\n",
    "import tensorflow as tf"
   ]
  },
  {
   "cell_type": "code",
   "execution_count": 2,
   "metadata": {},
   "outputs": [],
   "source": [
    "df = pd.read_csv(\"01_USDJPY_D.csv\", encoding=\"SHIFT-JIS\",sep = \",\")"
   ]
  },
  {
   "cell_type": "code",
   "execution_count": 3,
   "metadata": {},
   "outputs": [],
   "source": [
    "df.sort_index(ascending=False,inplace=True)\n",
    "df.drop([\"通貨ペア\"],axis=1,inplace=True)"
   ]
  },
  {
   "cell_type": "code",
   "execution_count": 4,
   "metadata": {},
   "outputs": [
    {
     "data": {
      "text/html": [
       "<div>\n",
       "<style scoped>\n",
       "    .dataframe tbody tr th:only-of-type {\n",
       "        vertical-align: middle;\n",
       "    }\n",
       "\n",
       "    .dataframe tbody tr th {\n",
       "        vertical-align: top;\n",
       "    }\n",
       "\n",
       "    .dataframe thead th {\n",
       "        text-align: right;\n",
       "    }\n",
       "</style>\n",
       "<table border=\"1\" class=\"dataframe\">\n",
       "  <thead>\n",
       "    <tr style=\"text-align: right;\">\n",
       "      <th></th>\n",
       "      <th>日付</th>\n",
       "      <th>始値</th>\n",
       "      <th>高値</th>\n",
       "      <th>安値</th>\n",
       "      <th>終値</th>\n",
       "    </tr>\n",
       "  </thead>\n",
       "  <tbody>\n",
       "    <tr>\n",
       "      <th>199</th>\n",
       "      <td>2018/10/04</td>\n",
       "      <td>114.441</td>\n",
       "      <td>114.549</td>\n",
       "      <td>113.632</td>\n",
       "      <td>113.939</td>\n",
       "    </tr>\n",
       "    <tr>\n",
       "      <th>198</th>\n",
       "      <td>2018/10/05</td>\n",
       "      <td>113.893</td>\n",
       "      <td>114.100</td>\n",
       "      <td>113.558</td>\n",
       "      <td>113.671</td>\n",
       "    </tr>\n",
       "    <tr>\n",
       "      <th>197</th>\n",
       "      <td>2018/10/08</td>\n",
       "      <td>113.729</td>\n",
       "      <td>113.943</td>\n",
       "      <td>112.821</td>\n",
       "      <td>113.221</td>\n",
       "    </tr>\n",
       "    <tr>\n",
       "      <th>196</th>\n",
       "      <td>2018/10/09</td>\n",
       "      <td>113.183</td>\n",
       "      <td>113.392</td>\n",
       "      <td>112.870</td>\n",
       "      <td>112.950</td>\n",
       "    </tr>\n",
       "    <tr>\n",
       "      <th>195</th>\n",
       "      <td>2018/10/10</td>\n",
       "      <td>112.950</td>\n",
       "      <td>113.286</td>\n",
       "      <td>112.292</td>\n",
       "      <td>112.304</td>\n",
       "    </tr>\n",
       "    <tr>\n",
       "      <th>194</th>\n",
       "      <td>2018/10/11</td>\n",
       "      <td>112.198</td>\n",
       "      <td>112.534</td>\n",
       "      <td>111.832</td>\n",
       "      <td>112.123</td>\n",
       "    </tr>\n",
       "    <tr>\n",
       "      <th>193</th>\n",
       "      <td>2018/10/12</td>\n",
       "      <td>112.143</td>\n",
       "      <td>112.495</td>\n",
       "      <td>111.880</td>\n",
       "      <td>112.179</td>\n",
       "    </tr>\n",
       "    <tr>\n",
       "      <th>192</th>\n",
       "      <td>2018/10/15</td>\n",
       "      <td>112.135</td>\n",
       "      <td>112.236</td>\n",
       "      <td>111.625</td>\n",
       "      <td>111.750</td>\n",
       "    </tr>\n",
       "    <tr>\n",
       "      <th>191</th>\n",
       "      <td>2018/10/16</td>\n",
       "      <td>111.756</td>\n",
       "      <td>112.336</td>\n",
       "      <td>111.727</td>\n",
       "      <td>112.264</td>\n",
       "    </tr>\n",
       "    <tr>\n",
       "      <th>190</th>\n",
       "      <td>2018/10/17</td>\n",
       "      <td>112.241</td>\n",
       "      <td>112.676</td>\n",
       "      <td>112.014</td>\n",
       "      <td>112.669</td>\n",
       "    </tr>\n",
       "  </tbody>\n",
       "</table>\n",
       "</div>"
      ],
      "text/plain": [
       "             日付       始値       高値       安値       終値\n",
       "199  2018/10/04  114.441  114.549  113.632  113.939\n",
       "198  2018/10/05  113.893  114.100  113.558  113.671\n",
       "197  2018/10/08  113.729  113.943  112.821  113.221\n",
       "196  2018/10/09  113.183  113.392  112.870  112.950\n",
       "195  2018/10/10  112.950  113.286  112.292  112.304\n",
       "194  2018/10/11  112.198  112.534  111.832  112.123\n",
       "193  2018/10/12  112.143  112.495  111.880  112.179\n",
       "192  2018/10/15  112.135  112.236  111.625  111.750\n",
       "191  2018/10/16  111.756  112.336  111.727  112.264\n",
       "190  2018/10/17  112.241  112.676  112.014  112.669"
      ]
     },
     "execution_count": 4,
     "metadata": {},
     "output_type": "execute_result"
    }
   ],
   "source": [
    "df.head(10)"
   ]
  },
  {
   "cell_type": "code",
   "execution_count": 5,
   "metadata": {},
   "outputs": [],
   "source": [
    "df_shift = df.copy()"
   ]
  },
  {
   "cell_type": "code",
   "execution_count": 6,
   "metadata": {},
   "outputs": [
    {
     "data": {
      "text/html": [
       "<div>\n",
       "<style scoped>\n",
       "    .dataframe tbody tr th:only-of-type {\n",
       "        vertical-align: middle;\n",
       "    }\n",
       "\n",
       "    .dataframe tbody tr th {\n",
       "        vertical-align: top;\n",
       "    }\n",
       "\n",
       "    .dataframe thead th {\n",
       "        text-align: right;\n",
       "    }\n",
       "</style>\n",
       "<table border=\"1\" class=\"dataframe\">\n",
       "  <thead>\n",
       "    <tr style=\"text-align: right;\">\n",
       "      <th></th>\n",
       "      <th>日付</th>\n",
       "      <th>始値</th>\n",
       "      <th>高値</th>\n",
       "      <th>安値</th>\n",
       "      <th>終値</th>\n",
       "    </tr>\n",
       "  </thead>\n",
       "  <tbody>\n",
       "    <tr>\n",
       "      <th>0</th>\n",
       "      <td>2018/10/04</td>\n",
       "      <td>114.441</td>\n",
       "      <td>114.549</td>\n",
       "      <td>113.632</td>\n",
       "      <td>113.939</td>\n",
       "    </tr>\n",
       "    <tr>\n",
       "      <th>1</th>\n",
       "      <td>2018/10/05</td>\n",
       "      <td>113.893</td>\n",
       "      <td>114.100</td>\n",
       "      <td>113.558</td>\n",
       "      <td>113.671</td>\n",
       "    </tr>\n",
       "    <tr>\n",
       "      <th>2</th>\n",
       "      <td>2018/10/08</td>\n",
       "      <td>113.729</td>\n",
       "      <td>113.943</td>\n",
       "      <td>112.821</td>\n",
       "      <td>113.221</td>\n",
       "    </tr>\n",
       "    <tr>\n",
       "      <th>3</th>\n",
       "      <td>2018/10/09</td>\n",
       "      <td>113.183</td>\n",
       "      <td>113.392</td>\n",
       "      <td>112.870</td>\n",
       "      <td>112.950</td>\n",
       "    </tr>\n",
       "    <tr>\n",
       "      <th>4</th>\n",
       "      <td>2018/10/10</td>\n",
       "      <td>112.950</td>\n",
       "      <td>113.286</td>\n",
       "      <td>112.292</td>\n",
       "      <td>112.304</td>\n",
       "    </tr>\n",
       "  </tbody>\n",
       "</table>\n",
       "</div>"
      ],
      "text/plain": [
       "           日付       始値       高値       安値       終値\n",
       "0  2018/10/04  114.441  114.549  113.632  113.939\n",
       "1  2018/10/05  113.893  114.100  113.558  113.671\n",
       "2  2018/10/08  113.729  113.943  112.821  113.221\n",
       "3  2018/10/09  113.183  113.392  112.870  112.950\n",
       "4  2018/10/10  112.950  113.286  112.292  112.304"
      ]
     },
     "execution_count": 6,
     "metadata": {},
     "output_type": "execute_result"
    }
   ],
   "source": [
    "df_shift.reset_index(drop=True,inplace=True)\n",
    "df_shift.head()"
   ]
  },
  {
   "cell_type": "code",
   "execution_count": 7,
   "metadata": {},
   "outputs": [],
   "source": [
    "df_shift.終値 = df_shift.終値.shift(-1)"
   ]
  },
  {
   "cell_type": "code",
   "execution_count": 8,
   "metadata": {},
   "outputs": [
    {
     "data": {
      "text/html": [
       "<div>\n",
       "<style scoped>\n",
       "    .dataframe tbody tr th:only-of-type {\n",
       "        vertical-align: middle;\n",
       "    }\n",
       "\n",
       "    .dataframe tbody tr th {\n",
       "        vertical-align: top;\n",
       "    }\n",
       "\n",
       "    .dataframe thead th {\n",
       "        text-align: right;\n",
       "    }\n",
       "</style>\n",
       "<table border=\"1\" class=\"dataframe\">\n",
       "  <thead>\n",
       "    <tr style=\"text-align: right;\">\n",
       "      <th></th>\n",
       "      <th>日付</th>\n",
       "      <th>始値</th>\n",
       "      <th>高値</th>\n",
       "      <th>安値</th>\n",
       "      <th>終値</th>\n",
       "    </tr>\n",
       "  </thead>\n",
       "  <tbody>\n",
       "    <tr>\n",
       "      <th>195</th>\n",
       "      <td>2019/07/05</td>\n",
       "      <td>107.783</td>\n",
       "      <td>108.636</td>\n",
       "      <td>107.767</td>\n",
       "      <td>108.729</td>\n",
       "    </tr>\n",
       "    <tr>\n",
       "      <th>196</th>\n",
       "      <td>2019/07/08</td>\n",
       "      <td>108.410</td>\n",
       "      <td>108.806</td>\n",
       "      <td>108.279</td>\n",
       "      <td>108.856</td>\n",
       "    </tr>\n",
       "    <tr>\n",
       "      <th>197</th>\n",
       "      <td>2019/07/09</td>\n",
       "      <td>108.683</td>\n",
       "      <td>108.963</td>\n",
       "      <td>108.660</td>\n",
       "      <td>108.466</td>\n",
       "    </tr>\n",
       "    <tr>\n",
       "      <th>198</th>\n",
       "      <td>2019/07/10</td>\n",
       "      <td>108.814</td>\n",
       "      <td>108.989</td>\n",
       "      <td>108.347</td>\n",
       "      <td>108.491</td>\n",
       "    </tr>\n",
       "    <tr>\n",
       "      <th>199</th>\n",
       "      <td>2019/07/11</td>\n",
       "      <td>108.396</td>\n",
       "      <td>108.533</td>\n",
       "      <td>107.858</td>\n",
       "      <td>NaN</td>\n",
       "    </tr>\n",
       "  </tbody>\n",
       "</table>\n",
       "</div>"
      ],
      "text/plain": [
       "             日付       始値       高値       安値       終値\n",
       "195  2019/07/05  107.783  108.636  107.767  108.729\n",
       "196  2019/07/08  108.410  108.806  108.279  108.856\n",
       "197  2019/07/09  108.683  108.963  108.660  108.466\n",
       "198  2019/07/10  108.814  108.989  108.347  108.491\n",
       "199  2019/07/11  108.396  108.533  107.858      NaN"
      ]
     },
     "execution_count": 8,
     "metadata": {},
     "output_type": "execute_result"
    }
   ],
   "source": [
    "df_shift.tail()"
   ]
  },
  {
   "cell_type": "code",
   "execution_count": 9,
   "metadata": {},
   "outputs": [],
   "source": [
    "df_shift = df_shift[:-1].copy()"
   ]
  },
  {
   "cell_type": "code",
   "execution_count": 10,
   "metadata": {},
   "outputs": [],
   "source": [
    "del df_shift[\"日付\"]"
   ]
  },
  {
   "cell_type": "code",
   "execution_count": 11,
   "metadata": {},
   "outputs": [
    {
     "data": {
      "text/html": [
       "<div>\n",
       "<style scoped>\n",
       "    .dataframe tbody tr th:only-of-type {\n",
       "        vertical-align: middle;\n",
       "    }\n",
       "\n",
       "    .dataframe tbody tr th {\n",
       "        vertical-align: top;\n",
       "    }\n",
       "\n",
       "    .dataframe thead th {\n",
       "        text-align: right;\n",
       "    }\n",
       "</style>\n",
       "<table border=\"1\" class=\"dataframe\">\n",
       "  <thead>\n",
       "    <tr style=\"text-align: right;\">\n",
       "      <th></th>\n",
       "      <th>始値</th>\n",
       "      <th>高値</th>\n",
       "      <th>安値</th>\n",
       "      <th>終値</th>\n",
       "    </tr>\n",
       "  </thead>\n",
       "  <tbody>\n",
       "    <tr>\n",
       "      <th>0</th>\n",
       "      <td>114.441</td>\n",
       "      <td>114.549</td>\n",
       "      <td>113.632</td>\n",
       "      <td>113.671</td>\n",
       "    </tr>\n",
       "    <tr>\n",
       "      <th>1</th>\n",
       "      <td>113.893</td>\n",
       "      <td>114.100</td>\n",
       "      <td>113.558</td>\n",
       "      <td>113.221</td>\n",
       "    </tr>\n",
       "    <tr>\n",
       "      <th>2</th>\n",
       "      <td>113.729</td>\n",
       "      <td>113.943</td>\n",
       "      <td>112.821</td>\n",
       "      <td>112.950</td>\n",
       "    </tr>\n",
       "    <tr>\n",
       "      <th>3</th>\n",
       "      <td>113.183</td>\n",
       "      <td>113.392</td>\n",
       "      <td>112.870</td>\n",
       "      <td>112.304</td>\n",
       "    </tr>\n",
       "    <tr>\n",
       "      <th>4</th>\n",
       "      <td>112.950</td>\n",
       "      <td>113.286</td>\n",
       "      <td>112.292</td>\n",
       "      <td>112.123</td>\n",
       "    </tr>\n",
       "  </tbody>\n",
       "</table>\n",
       "</div>"
      ],
      "text/plain": [
       "        始値       高値       安値       終値\n",
       "0  114.441  114.549  113.632  113.671\n",
       "1  113.893  114.100  113.558  113.221\n",
       "2  113.729  113.943  112.821  112.950\n",
       "3  113.183  113.392  112.870  112.304\n",
       "4  112.950  113.286  112.292  112.123"
      ]
     },
     "execution_count": 11,
     "metadata": {},
     "output_type": "execute_result"
    }
   ],
   "source": [
    "df2 = df_shift.copy()\n",
    "df2.head()"
   ]
  },
  {
   "cell_type": "markdown",
   "metadata": {},
   "source": [
    "## トレーニングデータとテストデータに分割"
   ]
  },
  {
   "cell_type": "code",
   "execution_count": 12,
   "metadata": {},
   "outputs": [],
   "source": [
    "train_start = 0\n",
    "train_end = int(np.floor(df2.shape[0]*0.8))\n",
    "test_start = train_end + 1\n",
    "test_end = int(df2.shape[0])"
   ]
  },
  {
   "cell_type": "code",
   "execution_count": 13,
   "metadata": {},
   "outputs": [],
   "source": [
    "data_train = df2.loc[np.arange(train_start, train_end), :]\n",
    "data_test = df2.loc[np.arange(test_start, test_end), :]"
   ]
  },
  {
   "cell_type": "code",
   "execution_count": 14,
   "metadata": {},
   "outputs": [
    {
     "data": {
      "text/html": [
       "<div>\n",
       "<style scoped>\n",
       "    .dataframe tbody tr th:only-of-type {\n",
       "        vertical-align: middle;\n",
       "    }\n",
       "\n",
       "    .dataframe tbody tr th {\n",
       "        vertical-align: top;\n",
       "    }\n",
       "\n",
       "    .dataframe thead th {\n",
       "        text-align: right;\n",
       "    }\n",
       "</style>\n",
       "<table border=\"1\" class=\"dataframe\">\n",
       "  <thead>\n",
       "    <tr style=\"text-align: right;\">\n",
       "      <th></th>\n",
       "      <th>始値</th>\n",
       "      <th>高値</th>\n",
       "      <th>安値</th>\n",
       "      <th>終値</th>\n",
       "    </tr>\n",
       "  </thead>\n",
       "  <tbody>\n",
       "    <tr>\n",
       "      <th>0</th>\n",
       "      <td>114.441</td>\n",
       "      <td>114.549</td>\n",
       "      <td>113.632</td>\n",
       "      <td>113.671</td>\n",
       "    </tr>\n",
       "    <tr>\n",
       "      <th>1</th>\n",
       "      <td>113.893</td>\n",
       "      <td>114.100</td>\n",
       "      <td>113.558</td>\n",
       "      <td>113.221</td>\n",
       "    </tr>\n",
       "    <tr>\n",
       "      <th>2</th>\n",
       "      <td>113.729</td>\n",
       "      <td>113.943</td>\n",
       "      <td>112.821</td>\n",
       "      <td>112.950</td>\n",
       "    </tr>\n",
       "    <tr>\n",
       "      <th>3</th>\n",
       "      <td>113.183</td>\n",
       "      <td>113.392</td>\n",
       "      <td>112.870</td>\n",
       "      <td>112.304</td>\n",
       "    </tr>\n",
       "    <tr>\n",
       "      <th>4</th>\n",
       "      <td>112.950</td>\n",
       "      <td>113.286</td>\n",
       "      <td>112.292</td>\n",
       "      <td>112.123</td>\n",
       "    </tr>\n",
       "  </tbody>\n",
       "</table>\n",
       "</div>"
      ],
      "text/plain": [
       "        始値       高値       安値       終値\n",
       "0  114.441  114.549  113.632  113.671\n",
       "1  113.893  114.100  113.558  113.221\n",
       "2  113.729  113.943  112.821  112.950\n",
       "3  113.183  113.392  112.870  112.304\n",
       "4  112.950  113.286  112.292  112.123"
      ]
     },
     "execution_count": 14,
     "metadata": {},
     "output_type": "execute_result"
    }
   ],
   "source": [
    "data_train.head()"
   ]
  },
  {
   "cell_type": "code",
   "execution_count": 15,
   "metadata": {},
   "outputs": [],
   "source": [
    "#データを最少-1,最大1で正規化\n",
    "scaler = MinMaxScaler(feature_range=(-1, 1))"
   ]
  },
  {
   "cell_type": "code",
   "execution_count": 16,
   "metadata": {},
   "outputs": [
    {
     "data": {
      "text/plain": [
       "MinMaxScaler(copy=True, feature_range=(-1, 1))"
      ]
     },
     "execution_count": 16,
     "metadata": {},
     "output_type": "execute_result"
    }
   ],
   "source": [
    "#配列data_trainの平均と分散を記憶\n",
    "scaler.fit(data_train)"
   ]
  },
  {
   "cell_type": "code",
   "execution_count": 17,
   "metadata": {},
   "outputs": [],
   "source": [
    "#data_trainを変換\n",
    "data_train_norm = scaler.transform(data_train)"
   ]
  },
  {
   "cell_type": "code",
   "execution_count": 18,
   "metadata": {
    "collapsed": true,
    "jupyter": {
     "outputs_hidden": true
    }
   },
   "outputs": [
    {
     "data": {
      "text/plain": [
       "array([[ 1.        ,  1.        ,  0.99270548,  0.8962636 ],\n",
       "       [ 0.83798965,  0.85120133,  0.97342712,  0.7543749 ],\n",
       "       [ 0.7895048 ,  0.7991715 ,  0.78142504,  0.66892638],\n",
       "       [ 0.62808574,  0.61657001,  0.79419044,  0.46523727],\n",
       "       [ 0.55920177,  0.58144159,  0.64361079,  0.40816648],\n",
       "       [ 0.33688101,  0.33222867,  0.52377231,  0.42582374],\n",
       "       [ 0.32062084,  0.31930406,  0.53627719,  0.29055652],\n",
       "       [ 0.31825573,  0.23347142,  0.46984499,  0.45262494],\n",
       "       [ 0.20620843,  0.26661143,  0.49641787,  0.58032477],\n",
       "       [ 0.3495935 ,  0.37928749,  0.57118666,  0.42645436],\n",
       "       [ 0.48233555,  0.3965203 ,  0.55425296,  0.52892953],\n",
       "       [ 0.33037694,  0.36967688,  0.60479354,  0.6200536 ],\n",
       "       [ 0.43178123,  0.44888152,  0.65872085,  0.50212833],\n",
       "       [ 0.51042129,  0.43363712,  0.55529504,  0.439382  ],\n",
       "       [ 0.3992609 ,  0.4008285 ,  0.59072554,  0.50559672],\n",
       "       [ 0.32594235,  0.37862469,  0.52012505,  0.3318619 ],\n",
       "       [ 0.39689579,  0.30207125,  0.40549694,  0.47911083],\n",
       "       [ 0.24109387,  0.34183927,  0.50892276,  0.69131326],\n",
       "       [ 0.37827051,  0.49726595,  0.64621597,  0.67176415],\n",
       "       [ 0.60768662,  0.61391881,  0.77621467,  0.58726155],\n",
       "       [ 0.54235033,  0.48765534,  0.72515305,  0.75027589],\n",
       "       [ 0.47050998,  0.5937034 ,  0.71264817,  0.74491566],\n",
       "       [ 0.61359941,  0.5990058 ,  0.84759672,  0.82594987],\n",
       "       [ 0.62690318,  0.65401823,  0.85410968,  0.86441747],\n",
       "       [ 0.68928307,  0.75774648,  0.81372932,  1.        ],\n",
       "       [ 0.71914265,  0.84589892,  0.94945942,  0.93315466],\n",
       "       [ 0.87878788,  0.83893952,  0.99452911,  0.94923538],\n",
       "       [ 0.81226903,  0.88798674,  1.        ,  0.94072206],\n",
       "       [ 0.81492979,  0.86644573,  0.97941904,  0.88743497],\n",
       "       [ 0.80694752,  0.82038111,  0.90595285,  0.87892165],\n",
       "       [ 0.73392461,  0.72096106,  0.8530676 ,  0.64401703],\n",
       "       [ 0.74781966,  0.68947804,  0.73479224,  0.54028062],\n",
       "       [ 0.51219512,  0.44490472,  0.67695714,  0.60334227],\n",
       "       [ 0.43000739,  0.43529412,  0.64647649,  0.69825004],\n",
       "       [ 0.49002217,  0.53537697,  0.73557379,  0.66514268],\n",
       "       [ 0.5834442 ,  0.54863297,  0.7978377 ,  0.65662936],\n",
       "       [ 0.54915004,  0.48997514,  0.74000261,  0.87009302],\n",
       "       [ 0.54175905,  0.70240265,  0.79601407,  0.93031688],\n",
       "       [ 0.73717664,  0.76636288,  0.93617298,  0.89468706],\n",
       "       [ 0.79660015,  0.82999171,  0.94320698,  0.83004887],\n",
       "       [ 0.75314117,  0.70405965,  0.87729582,  0.8540123 ],\n",
       "       [ 0.70317812,  0.72460646,  0.91116321,  0.87545326],\n",
       "       [ 0.75905395,  0.75907208,  0.92601277,  0.61532398],\n",
       "       [ 0.75432373,  0.69908865,  0.71759802,  0.73924011],\n",
       "       [ 0.4947524 ,  0.56685998,  0.73661587,  0.57527984],\n",
       "       [ 0.61507761,  0.54664457,  0.6282402 ,  0.58221662],\n",
       "       [ 0.47997044,  0.46246893,  0.71212713,  0.78306795],\n",
       "       [ 0.45454545,  0.6062966 ,  0.63006383,  0.80734668],\n",
       "       [ 0.64966741,  0.64076222,  0.82988146,  0.765726  ],\n",
       "       [ 0.67982262,  0.65898923,  0.86453042,  0.87356141],\n",
       "       [ 0.64168514,  0.72062966,  0.87885893,  0.80482422],\n",
       "       [ 0.73481153,  0.70936205,  0.88380878,  0.63203531],\n",
       "       [ 0.67006652,  0.65865783,  0.74521297,  0.52356929],\n",
       "       [ 0.50539542,  0.43661972,  0.63240849,  0.50685795],\n",
       "       [ 0.42379897,  0.37497929,  0.59124658,  0.14267697],\n",
       "       [ 0.40280857,  0.35542668,  0.25856454,  0.13542488],\n",
       "       [ 0.0421286 , -0.02402651,  0.28982676, -0.12659625],\n",
       "       [-0.03444198, -0.11317316,  0.11632148, -0.23821536],\n",
       "       [-0.18758315, -0.36039768,  0.05640224,  0.16790162],\n",
       "       [-0.24020695, -0.03993372,  0.08115149,  0.04713858],\n",
       "       [ 0.07050998, -0.06611433,  0.16529894, -0.18019864],\n",
       "       [-0.02734664, -0.18740679,  0.08297512, -0.38924799],\n",
       "       [-0.23725055, -0.35012428, -0.06864661, -0.6162699 ],\n",
       "       [-0.42054693, -0.598343  , -0.28982676, -1.        ],\n",
       "       [-0.66799704, -0.89826015, -1.        , -0.74712281],\n",
       "       [-1.        , -0.97514499, -0.60114628, -0.67334069],\n",
       "       [-0.75875831, -0.92278376, -0.46958447, -0.65536812],\n",
       "       [-0.70406504, -0.8097763 , -0.35990621, -0.85243576],\n",
       "       [-0.68987435, -0.83794532, -0.48182884, -0.75248305],\n",
       "       [-0.86725795, -1.        , -0.53445356, -0.71842977],\n",
       "       [-0.78595713, -0.97249379, -0.43675915, -0.83793158],\n",
       "       [-0.74988914, -0.98972659, -0.47818158, -0.67397131],\n",
       "       [-0.86459719, -0.91714996, -0.44796144, -0.54627148],\n",
       "       [-0.7052476 , -0.77431649, -0.37788199, -0.50181302],\n",
       "       [-0.59704361, -0.70571665, -0.29581868, -0.34132114],\n",
       "       [-0.54648928, -0.54432477, -0.19890582, -0.36496926],\n",
       "       [-0.40487805, -0.58740679, -0.09026964, -0.46902097],\n",
       "       [-0.42054693, -0.6062966 , -0.1759802 , -0.3895633 ],\n",
       "       [-0.50983001, -0.50787075, -0.13247362, -0.38514898],\n",
       "       [-0.44301552, -0.57348799, -0.10433763, -0.42172474],\n",
       "       [-0.43118995, -0.52444076, -0.0967826 , -0.47311997],\n",
       "       [-0.45484109, -0.65037283, -0.17207242, -0.46523727],\n",
       "       [-0.51662971, -0.65965203, -0.1801485 , -0.56897367],\n",
       "       [-0.50864745, -0.5927092 , -0.26351439, -0.61721583],\n",
       "       [-0.61330377, -0.81507871, -0.34505666, -0.41983289],\n",
       "       [-0.66444937, -0.64705882, -0.28565846, -0.29402491],\n",
       "       [-0.46311899, -0.45385253, -0.10121141, -0.27416049],\n",
       "       [-0.35875831, -0.49428335, -0.01185359, -0.26848494],\n",
       "       [-0.34072432, -0.49030655, -0.06890713, -0.31988018],\n",
       "       [-0.32505543, -0.47903894, -0.05614172, -0.34825792],\n",
       "       [-0.37974871, -0.54167357, -0.04519995, -0.14551474],\n",
       "       [-0.38507021, -0.35244408, -0.01992966, -0.11209207],\n",
       "       [-0.21832964, -0.29179785,  0.12908688,  0.05439067],\n",
       "       [-0.1834442 , -0.15990058,  0.15487821, -0.09695728],\n",
       "       [-0.02764228, -0.13371997,  0.16634102, -0.12785748],\n",
       "       [-0.18669623, -0.29345485,  0.11267422, -0.07047139],\n",
       "       [-0.18462676, -0.29113505,  0.15696236, -0.08213779],\n",
       "       [-0.14471545, -0.23446562,  0.16425687,  0.01150875],\n",
       "       [-0.15683666, -0.1930406 ,  0.18275368, -0.04556204],\n",
       "       [-0.07612712, -0.22452361,  0.19395597, -0.05975091],\n",
       "       [-0.12904656, -0.2072908 ,  0.19187182,  0.07141731],\n",
       "       [-0.12668145, -0.09859155,  0.19708219, -0.07646224],\n",
       "       [-0.01936438, -0.15062138,  0.15670184,  0.05155289],\n",
       "       [-0.15890613, -0.15194698,  0.13898658,  0.17357717],\n",
       "       [-0.02764228, -0.01309031,  0.21870522,  0.35046508],\n",
       "       [ 0.09031781,  0.18077879,  0.39142894,  0.28330443],\n",
       "       [ 0.22956393,  0.15990058,  0.47401329,  0.33091597],\n",
       "       [ 0.19556541,  0.2003314 ,  0.49146802,  0.29686268],\n",
       "       [ 0.23281596,  0.12908036,  0.46723981,  0.23663881],\n",
       "       [ 0.1985218 ,  0.10820215,  0.43259086,  0.10610121],\n",
       "       [ 0.14323725,  0.03927092,  0.25100951,  0.12344317],\n",
       "       [ 0.01315595, -0.07439934,  0.27549824,  0.15844238],\n",
       "       [ 0.02882483, -0.02170671,  0.335678  ,  0.10641652],\n",
       "       [ 0.07553585, -0.02170671,  0.30858408,  0.26785433],\n",
       "       [ 0.02675536,  0.09925435,  0.34505666,  0.21046823],\n",
       "       [ 0.16895787,  0.12278376,  0.40706005,  0.18650481],\n",
       "       [ 0.11603843,  0.03231152,  0.38439495,  0.18492827],\n",
       "       [ 0.09800443, -0.01839271,  0.34792237, -0.03673341],\n",
       "       [ 0.09031781,  0.05385253,  0.1858799 , -0.01150875],\n",
       "       [-0.12727273, -0.190058  ,  0.12413703, -0.2858269 ],\n",
       "       [-0.08085735, -0.21060481, -0.02123225, -0.27384518],\n",
       "       [-0.31736881, -0.42767191, -0.02982936, -0.0594356 ],\n",
       "       [-0.33658537, -0.27887324,  0.02201381, -0.09695728],\n",
       "       [-0.13022912, -0.27058824,  0.10772437, -0.04335488],\n",
       "       [-0.18255728, -0.23181442,  0.05145239, -0.00646382],\n",
       "       [-0.14382853, -0.1930406 ,  0.18535886,  0.16380262],\n",
       "       [-0.04271988, -0.02932891,  0.25413573,  0.15245152],\n",
       "       [ 0.07937916, -0.02535211,  0.37189006,  0.20763046],\n",
       "       [ 0.07317073,  0.01541011,  0.36146932,  0.25492669],\n",
       "       [ 0.10923873,  0.03595692,  0.39455516,  0.27479111],\n",
       "       [ 0.17191426,  0.09660315,  0.45056663,  0.209207  ],\n",
       "       [ 0.18019217,  0.06611433,  0.38048717,  0.10389406],\n",
       "       [ 0.12431633,  0.01574151,  0.30155008,  0.04524673],\n",
       "       [ 0.01936438, -0.08334714,  0.2663801 ,  0.2631247 ],\n",
       "       [-0.04005913,  0.05385253,  0.27732187,  0.3703295 ],\n",
       "       [ 0.16659276,  0.18641259,  0.45942425,  0.3819959 ],\n",
       "       [ 0.26474501,  0.18674399,  0.53810082,  0.37316727],\n",
       "       [ 0.27302291,  0.16984258,  0.52741956,  0.39303169],\n",
       "       [ 0.27450111,  0.21060481,  0.54721897,  0.36370802],\n",
       "       [ 0.2804139 ,  0.17547639,  0.50631757,  0.34478953],\n",
       "       [ 0.2609017 ,  0.15724938,  0.54018497,  0.34857323],\n",
       "       [ 0.24493718,  0.15194698,  0.53810082,  0.32650166],\n",
       "       [ 0.24789357,  0.16586578,  0.47635795,  0.43149929],\n",
       "       [ 0.23104213,  0.28815244,  0.48417351,  0.25082768],\n",
       "       [ 0.30731707,  0.23446562,  0.40289175,  0.25051238],\n",
       "       [ 0.15594974,  0.16188898,  0.41852286,  0.25398077],\n",
       "       [ 0.14648928,  0.12178956,  0.44744041,  0.19123443],\n",
       "       [ 0.16570584,  0.05252693,  0.36850332,  0.17736087],\n",
       "       [ 0.09711752,  0.02667771,  0.31770223,  0.21362131],\n",
       "       [ 0.08943089,  0.04424192,  0.39481568,  0.08875926],\n",
       "       [ 0.12520325,  0.05683513,  0.32499674,  0.01308529],\n",
       "       [-0.13584627, -0.18972659,  0.11996874, -0.18303642],\n",
       "       [-0.12490761, -0.22518641,  0.09079067, -0.23317042],\n",
       "       [-0.25380636, -0.41176471,  0.02097173, -0.33060066],\n",
       "       [-0.29342203, -0.47572494, -0.09105119, -0.27699827],\n",
       "       [-0.4104952 , -0.49096935, -0.09000912, -0.48037206],\n",
       "       [-0.3841833 , -0.56652858, -0.20932656, -0.38767145],\n",
       "       [-0.53968958, -0.58309859, -0.17624072, -0.39271638],\n",
       "       [-0.4368071 , -0.6062966 , -0.17415657, -0.31136686]])"
      ]
     },
     "execution_count": 18,
     "metadata": {},
     "output_type": "execute_result"
    }
   ],
   "source": [
    "data_train_norm"
   ]
  },
  {
   "cell_type": "code",
   "execution_count": 19,
   "metadata": {},
   "outputs": [],
   "source": [
    "data_test_norm = scaler.transform(data_test)"
   ]
  },
  {
   "cell_type": "code",
   "execution_count": 20,
   "metadata": {},
   "outputs": [],
   "source": [
    "#X_train:材料データの配列(行は全部、列は1~)\n",
    "#Y_train:予測したいデータ配列(行は全部、列は0)\n",
    "X_train = data_train_norm[:, 1:]\n",
    "y_train = data_train_norm[:, 0]"
   ]
  },
  {
   "cell_type": "code",
   "execution_count": 21,
   "metadata": {},
   "outputs": [],
   "source": [
    "#テストデータも同様に\n",
    "X_test = data_test_norm[:, 1:]\n",
    "y_test = data_test_norm[:, 0]"
   ]
  },
  {
   "cell_type": "markdown",
   "metadata": {},
   "source": [
    "## Tensorflowで学習させる"
   ]
  },
  {
   "cell_type": "code",
   "execution_count": 22,
   "metadata": {},
   "outputs": [],
   "source": [
    "#tensorflowインスタンスの生成\n",
    "net = tf.InteractiveSession()"
   ]
  },
  {
   "cell_type": "code",
   "execution_count": 23,
   "metadata": {},
   "outputs": [],
   "source": [
    "#トレーニングデータの列数\n",
    "n_stocks = X_train.shape[1]\n",
    " \n",
    "# ニューロンの数を設定\n",
    "n_neurons_1 = 256\n",
    "n_neurons_2 = 128\n",
    "  \n",
    "# プレースホルダーの作成（データ格納予定地的な）\n",
    "X = tf.placeholder(dtype=tf.float32, shape=[None, n_stocks])\n",
    "Y = tf.placeholder(dtype=tf.float32, shape=[None])\n",
    " \n",
    "# 初期化\n",
    "sigma = 1\n",
    "weight_initializer = tf.variance_scaling_initializer(mode=\"fan_avg\", distribution=\"uniform\", scale=sigma)\n",
    "bias_initializer = tf.zeros_initializer()"
   ]
  },
  {
   "cell_type": "code",
   "execution_count": 24,
   "metadata": {},
   "outputs": [],
   "source": [
    "#重み、バイアスのオブジェクト(?)を生成\n",
    "W_hidden_1 = tf.Variable(weight_initializer([n_stocks, n_neurons_1]))\n",
    "bias_hidden_1 = tf.Variable(bias_initializer([n_neurons_1]))\n",
    "W_hidden_2 = tf.Variable(weight_initializer([n_neurons_1, n_neurons_2]))\n",
    "bias_hidden_2 = tf.Variable(bias_initializer([n_neurons_2]))"
   ]
  },
  {
   "cell_type": "code",
   "execution_count": 25,
   "metadata": {},
   "outputs": [],
   "source": [
    "#同様に出力の重みも,\n",
    "W_out = tf.Variable(weight_initializer([n_neurons_2, 1]))\n",
    "bias_out = tf.Variable(bias_initializer([1]))"
   ]
  },
  {
   "cell_type": "code",
   "execution_count": 26,
   "metadata": {},
   "outputs": [],
   "source": [
    "# 隠れ層の設定（ReLU＝活性化関数）\n",
    "hidden_1 = tf.nn.relu(tf.add(tf.matmul(X, W_hidden_1), bias_hidden_1))\n",
    "hidden_2 = tf.nn.relu(tf.add(tf.matmul(hidden_1, W_hidden_2), bias_hidden_2))\n",
    " \n",
    "# 出力層の設定\n",
    "out = tf.transpose(tf.add(tf.matmul(hidden_2, W_out), bias_out))"
   ]
  },
  {
   "cell_type": "code",
   "execution_count": 27,
   "metadata": {},
   "outputs": [],
   "source": [
    "#コスト関数\n",
    "mse = tf.reduce_mean(tf.squared_difference(out, Y))\n",
    " \n",
    "# 最適化関数\n",
    "opt = tf.train.AdamOptimizer().minimize(mse)\n",
    " \n",
    "# 初期化\n",
    "net.run(tf.global_variables_initializer())"
   ]
  },
  {
   "cell_type": "code",
   "execution_count": 28,
   "metadata": {},
   "outputs": [],
   "source": [
    "# ニューラルネットワークの設定\n",
    "batch_size = 128\n",
    "mse_train = []\n",
    "mse_test = []\n",
    " \n",
    "# 訓練開始！500回の反復処理\n",
    "epochs = 500\n",
    "for e in range(epochs):\n",
    "    net.run(opt, feed_dict={X: X_train, Y: y_train})\n",
    " "
   ]
  },
  {
   "cell_type": "code",
   "execution_count": 29,
   "metadata": {},
   "outputs": [
    {
     "data": {
      "text/plain": [
       "array([-0.37345105, -0.31509364], dtype=float32)"
      ]
     },
     "execution_count": 29,
     "metadata": {},
     "output_type": "execute_result"
    }
   ],
   "source": [
    "pred_test = net.run(out, feed_dict={X: X_test})\n",
    " \n",
    "# 予測データの最初の2つを表示\n",
    "pred_test[0][0:2]"
   ]
  },
  {
   "cell_type": "code",
   "execution_count": 30,
   "metadata": {},
   "outputs": [],
   "source": [
    "# 予測値をテストデータに戻そう（値も正規化からインバース）\n",
    "pred_test = np.concatenate((pred_test.T, X_test), axis=1)\n",
    "pred_inv = scaler.inverse_transform(pred_test)\n",
    " "
   ]
  },
  {
   "cell_type": "code",
   "execution_count": 31,
   "metadata": {},
   "outputs": [
    {
     "data": {
      "text/html": [
       "<div>\n",
       "<style scoped>\n",
       "    .dataframe tbody tr th:only-of-type {\n",
       "        vertical-align: middle;\n",
       "    }\n",
       "\n",
       "    .dataframe tbody tr th {\n",
       "        vertical-align: top;\n",
       "    }\n",
       "\n",
       "    .dataframe thead th {\n",
       "        text-align: right;\n",
       "    }\n",
       "</style>\n",
       "<table border=\"1\" class=\"dataframe\">\n",
       "  <thead>\n",
       "    <tr style=\"text-align: right;\">\n",
       "      <th></th>\n",
       "      <th>始値</th>\n",
       "      <th>高値</th>\n",
       "      <th>安値</th>\n",
       "      <th>終値</th>\n",
       "    </tr>\n",
       "  </thead>\n",
       "  <tbody>\n",
       "    <tr>\n",
       "      <th>198</th>\n",
       "      <td>108.814</td>\n",
       "      <td>108.989</td>\n",
       "      <td>108.347</td>\n",
       "      <td>108.491</td>\n",
       "    </tr>\n",
       "  </tbody>\n",
       "</table>\n",
       "</div>"
      ],
      "text/plain": [
       "          始値       高値       安値       終値\n",
       "198  108.814  108.989  108.347  108.491"
      ]
     },
     "execution_count": 31,
     "metadata": {},
     "output_type": "execute_result"
    }
   ],
   "source": [
    "# 元データの最後尾\n",
    "df_shift.tail(1)"
   ]
  },
  {
   "cell_type": "code",
   "execution_count": 32,
   "metadata": {},
   "outputs": [
    {
     "name": "stdout",
     "output_type": "stream",
     "text": [
      "[109.53  109.927 109.474 108.346]\n",
      "[109.53  109.927 109.474 108.346]\n",
      "[109.84147717 109.927      109.474      108.346     ]\n"
     ]
    }
   ],
   "source": [
    "y_test = y_test.reshape(39, 1)\n",
    "test_inv = np.concatenate((y_test, X_test), axis=1)\n",
    "test_inv = scaler.inverse_transform(test_inv)\n",
    "\n",
    "# テストデータの最後のデータ（正規化前）\n",
    "print(data_test.values[9])\n",
    " \n",
    "# テストデータの最後のデータ（正規化を戻した後）\n",
    "print(test_inv[9])\n",
    " \n",
    "# モデルが予測したデータ\n",
    "print(pred_inv[9])"
   ]
  },
  {
   "cell_type": "code",
   "execution_count": 33,
   "metadata": {},
   "outputs": [
    {
     "data": {
      "image/png": "[encoded data removed]",
      "text/plain": [
       "<Figure size 432x288 with 1 Axes>"
      ]
     },
     "metadata": {
      "needs_background": "light"
     },
     "output_type": "display_data"
    }
   ],
   "source": [
    "# 予測と実際のテストの終値のチャートをプロットしてみよう\n",
    "plt.ion()\n",
    "fig = plt.figure()\n",
    "ax1 = fig.add_subplot(111)\n",
    "line1, = ax1.plot(test_inv[:,0])\n",
    "line2, = ax1.plot(pred_inv[:,0])\n",
    "plt.show()"
   ]
  },
  {
   "cell_type": "code",
   "execution_count": 34,
   "metadata": {},
   "outputs": [
    {
     "name": "stdout",
     "output_type": "stream",
     "text": [
      "0.03529454902784023\n"
     ]
    }
   ],
   "source": [
    "mae_test = mean_absolute_error(test_inv, pred_inv)\n",
    "print(mae_test)"
   ]
  },
  {
   "cell_type": "code",
   "execution_count": 62,
   "metadata": {},
   "outputs": [
    {
     "data": {
      "text/plain": [
       "array([109.823, 110.051, 110.034, 110.457, 110.285, 109.569, 109.293,\n",
       "       109.495, 109.347, 109.53 , 109.584, 108.29 , 108.04 , 108.111,\n",
       "       108.414, 108.336, 108.443, 108.414, 108.505, 108.45 , 108.35 ,\n",
       "       108.479, 108.512, 108.417, 108.057, 107.264, 107.263, 107.253,\n",
       "       107.144, 107.749, 107.784, 108.196, 108.421, 107.875, 107.781,\n",
       "       107.783, 108.41 , 108.683, 108.814])"
      ]
     },
     "execution_count": 62,
     "metadata": {},
     "output_type": "execute_result"
    }
   ],
   "source": [
    "test_inv[:,0]"
   ]
  },
  {
   "cell_type": "code",
   "execution_count": 63,
   "metadata": {},
   "outputs": [
    {
     "data": {
      "text/plain": [
       "array([109.78385424, 109.93895006, 110.23741071, 110.56450617,\n",
       "       110.04183918, 109.54409882, 109.47177147, 109.4739376 ,\n",
       "       109.45036726, 109.73973563, 109.37698991, 108.19116463,\n",
       "       108.13744896, 108.15708684, 108.32019515, 108.24557224,\n",
       "       108.58192353, 108.62499728, 108.46688654, 108.42904585,\n",
       "       108.43867589, 108.67135248, 108.36941002, 108.31299012,\n",
       "       107.7894261 , 107.40053655, 107.43708732, 107.0510764 ,\n",
       "       107.44129458, 107.93782334, 107.76619931, 108.31823286,\n",
       "       108.12660078, 107.78216663, 107.85441576, 108.13054009,\n",
       "       108.58151587, 108.83562389, 108.67096256])"
      ]
     },
     "execution_count": 63,
     "metadata": {},
     "output_type": "execute_result"
    }
   ],
   "source": [
    "pred_inv[:,0]"
   ]
  },
  {
   "cell_type": "code",
   "execution_count": null,
   "metadata": {},
   "outputs": [],
   "source": []
  }
 ],
 "metadata": {
  "kernelspec": {
   "display_name": "Python 3",
   "language": "python",
   "name": "python3"
  },
  "language_info": {
   "codemirror_mode": {
    "name": "ipython",
    "version": 3
   },
   "file_extension": ".py",
   "mimetype": "text/x-python",
   "name": "python",
   "nbconvert_exporter": "python",
   "pygments_lexer": "ipython3",
   "version": "3.7.2"
  },
  "varInspector": {
   "cols": {
    "lenName": 16,
    "lenType": 16,
    "lenVar": 40
   },
   "kernels_config": {
    "python": {
     "delete_cmd_postfix": "",
     "delete_cmd_prefix": "del ",
     "library": "var_list.py",
     "varRefreshCmd": "print(var_dic_list())"
    },
    "r": {
     "delete_cmd_postfix": ") ",
     "delete_cmd_prefix": "rm(",
     "library": "var_list.r",
     "varRefreshCmd": "cat(var_dic_list()) "
    }
   },
   "position": {
    "height": "305px",
    "left": "1027px",
    "right": "20px",
    "top": "169px",
    "width": "327px"
   },
   "types_to_exclude": [
    "module",
    "function",
    "builtin_function_or_method",
    "instance",
    "_Feature"
   ],
   "window_display": true
  }
 },
 "nbformat": 4,
 "nbformat_minor": 4
}
