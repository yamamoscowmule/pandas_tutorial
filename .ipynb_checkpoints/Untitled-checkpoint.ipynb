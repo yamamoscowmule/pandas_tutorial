{
 "cells": [
  {
   "cell_type": "code",
   "execution_count": 1,
   "metadata": {},
   "outputs": [],
   "source": [
    "import csv\n",
    "import pandas as pd"
   ]
  },
  {
   "cell_type": "code",
   "execution_count": 2,
   "metadata": {},
   "outputs": [],
   "source": [
    "df = pd.read_csv(\"01_USDJPY_D.csv\", encoding=\"SHIFT-JIS\",sep = \",\")"
   ]
  },
  {
   "cell_type": "code",
   "execution_count": null,
   "metadata": {},
   "outputs": [
    {
     "data": {
      "text/html": [
       "<div>\n",
       "<style scoped>\n",
       "    .dataframe tbody tr th:only-of-type {\n",
       "        vertical-align: middle;\n",
       "    }\n",
       "\n",
       "    .dataframe tbody tr th {\n",
       "        vertical-align: top;\n",
       "    }\n",
       "\n",
       "    .dataframe thead th {\n",
       "        text-align: right;\n",
       "    }\n",
       "</style>\n",
       "<table border=\"1\" class=\"dataframe\">\n",
       "  <thead>\n",
       "    <tr style=\"text-align: right;\">\n",
       "      <th></th>\n",
       "      <th>通貨ペア</th>\n",
       "      <th>日付</th>\n",
       "      <th>始値</th>\n",
       "      <th>高値</th>\n",
       "      <th>安値</th>\n",
       "      <th>終値</th>\n",
       "    </tr>\n",
       "  </thead>\n",
       "  <tbody>\n",
       "    <tr>\n",
       "      <th>0</th>\n",
       "      <td>1</td>\n",
       "      <td>2019/07/11</td>\n",
       "      <td>108.396</td>\n",
       "      <td>108.533</td>\n",
       "      <td>107.858</td>\n",
       "      <td>108.491</td>\n",
       "    </tr>\n",
       "    <tr>\n",
       "      <th>1</th>\n",
       "      <td>1</td>\n",
       "      <td>2019/07/10</td>\n",
       "      <td>108.814</td>\n",
       "      <td>108.989</td>\n",
       "      <td>108.347</td>\n",
       "      <td>108.466</td>\n",
       "    </tr>\n",
       "    <tr>\n",
       "      <th>2</th>\n",
       "      <td>1</td>\n",
       "      <td>2019/07/09</td>\n",
       "      <td>108.683</td>\n",
       "      <td>108.963</td>\n",
       "      <td>108.660</td>\n",
       "      <td>108.856</td>\n",
       "    </tr>\n",
       "    <tr>\n",
       "      <th>3</th>\n",
       "      <td>1</td>\n",
       "      <td>2019/07/08</td>\n",
       "      <td>108.410</td>\n",
       "      <td>108.806</td>\n",
       "      <td>108.279</td>\n",
       "      <td>108.729</td>\n",
       "    </tr>\n",
       "    <tr>\n",
       "      <th>4</th>\n",
       "      <td>1</td>\n",
       "      <td>2019/07/05</td>\n",
       "      <td>107.783</td>\n",
       "      <td>108.636</td>\n",
       "      <td>107.767</td>\n",
       "      <td>108.491</td>\n",
       "    </tr>\n",
       "  </tbody>\n",
       "</table>\n",
       "</div>"
      ],
      "text/plain": [
       "   通貨ペア          日付       始値       高値       安値       終値\n",
       "0     1  2019/07/11  108.396  108.533  107.858  108.491\n",
       "1     1  2019/07/10  108.814  108.989  108.347  108.466\n",
       "2     1  2019/07/09  108.683  108.963  108.660  108.856\n",
       "3     1  2019/07/08  108.410  108.806  108.279  108.729\n",
       "4     1  2019/07/05  107.783  108.636  107.767  108.491"
      ]
     },
     "execution_count": 3,
     "metadata": {},
     "output_type": "execute_result"
    }
   ],
   "source": [
    "df.head()"
   ]
  },
  {
   "cell_type": "code",
   "execution_count": 15,
   "metadata": {},
   "outputs": [],
   "source": [
    "df.index = pd.to_datetime(df.index,format=\"%Y/%m/%d\")"
   ]
  },
  {
   "cell_type": "code",
   "execution_count": 16,
   "metadata": {},
   "outputs": [
    {
     "data": {
      "text/html": [
       "<div>\n",
       "<style scoped>\n",
       "    .dataframe tbody tr th:only-of-type {\n",
       "        vertical-align: middle;\n",
       "    }\n",
       "\n",
       "    .dataframe tbody tr th {\n",
       "        vertical-align: top;\n",
       "    }\n",
       "\n",
       "    .dataframe thead th {\n",
       "        text-align: right;\n",
       "    }\n",
       "</style>\n",
       "<table border=\"1\" class=\"dataframe\">\n",
       "  <thead>\n",
       "    <tr style=\"text-align: right;\">\n",
       "      <th></th>\n",
       "      <th>通貨ペア</th>\n",
       "      <th>日付</th>\n",
       "      <th>始値</th>\n",
       "      <th>高値</th>\n",
       "      <th>安値</th>\n",
       "      <th>終値</th>\n",
       "    </tr>\n",
       "  </thead>\n",
       "  <tbody>\n",
       "    <tr>\n",
       "      <th>1970-01-01 00:00:00.000000000</th>\n",
       "      <td>1</td>\n",
       "      <td>2019/07/11</td>\n",
       "      <td>108.396</td>\n",
       "      <td>108.533</td>\n",
       "      <td>107.858</td>\n",
       "      <td>108.491</td>\n",
       "    </tr>\n",
       "    <tr>\n",
       "      <th>1970-01-01 00:00:00.000000001</th>\n",
       "      <td>1</td>\n",
       "      <td>2019/07/10</td>\n",
       "      <td>108.814</td>\n",
       "      <td>108.989</td>\n",
       "      <td>108.347</td>\n",
       "      <td>108.466</td>\n",
       "    </tr>\n",
       "    <tr>\n",
       "      <th>1970-01-01 00:00:00.000000002</th>\n",
       "      <td>1</td>\n",
       "      <td>2019/07/09</td>\n",
       "      <td>108.683</td>\n",
       "      <td>108.963</td>\n",
       "      <td>108.660</td>\n",
       "      <td>108.856</td>\n",
       "    </tr>\n",
       "    <tr>\n",
       "      <th>1970-01-01 00:00:00.000000003</th>\n",
       "      <td>1</td>\n",
       "      <td>2019/07/08</td>\n",
       "      <td>108.410</td>\n",
       "      <td>108.806</td>\n",
       "      <td>108.279</td>\n",
       "      <td>108.729</td>\n",
       "    </tr>\n",
       "    <tr>\n",
       "      <th>1970-01-01 00:00:00.000000004</th>\n",
       "      <td>1</td>\n",
       "      <td>2019/07/05</td>\n",
       "      <td>107.783</td>\n",
       "      <td>108.636</td>\n",
       "      <td>107.767</td>\n",
       "      <td>108.491</td>\n",
       "    </tr>\n",
       "  </tbody>\n",
       "</table>\n",
       "</div>"
      ],
      "text/plain": [
       "                               通貨ペア          日付       始値       高値       安値  \\\n",
       "1970-01-01 00:00:00.000000000     1  2019/07/11  108.396  108.533  107.858   \n",
       "1970-01-01 00:00:00.000000001     1  2019/07/10  108.814  108.989  108.347   \n",
       "1970-01-01 00:00:00.000000002     1  2019/07/09  108.683  108.963  108.660   \n",
       "1970-01-01 00:00:00.000000003     1  2019/07/08  108.410  108.806  108.279   \n",
       "1970-01-01 00:00:00.000000004     1  2019/07/05  107.783  108.636  107.767   \n",
       "\n",
       "                                    終値  \n",
       "1970-01-01 00:00:00.000000000  108.491  \n",
       "1970-01-01 00:00:00.000000001  108.466  \n",
       "1970-01-01 00:00:00.000000002  108.856  \n",
       "1970-01-01 00:00:00.000000003  108.729  \n",
       "1970-01-01 00:00:00.000000004  108.491  "
      ]
     },
     "execution_count": 16,
     "metadata": {},
     "output_type": "execute_result"
    }
   ],
   "source": [
    "df.head()"
   ]
  },
  {
   "cell_type": "code",
   "execution_count": null,
   "metadata": {},
   "outputs": [],
   "source": []
  }
 ],
 "metadata": {
  "kernelspec": {
   "display_name": "Python 3",
   "language": "python",
   "name": "python3"
  },
  "language_info": {
   "codemirror_mode": {
    "name": "ipython",
    "version": 3
   },
   "file_extension": ".py",
   "mimetype": "text/x-python",
   "name": "python",
   "nbconvert_exporter": "python",
   "pygments_lexer": "ipython3",
   "version": "3.7.3"
  }
 },
 "nbformat": 4,
 "nbformat_minor": 2
}
