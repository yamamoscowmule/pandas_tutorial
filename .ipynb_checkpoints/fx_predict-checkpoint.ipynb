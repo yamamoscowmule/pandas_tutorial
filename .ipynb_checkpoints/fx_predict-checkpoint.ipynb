{
 "cells": [
  {
   "cell_type": "code",
   "execution_count": 1,
   "metadata": {
    "slideshow": {
     "slide_type": "slide"
    }
   },
   "outputs": [],
   "source": [
    "import csv\n",
    "import pandas as pd\n",
    "import numpy as np\n",
    "import matplotlib.pyplot as plt\n",
    "from sklearn.preprocessing import MinMaxScaler\n",
    "from sklearn.metrics import mean_absolute_error\n",
    "import tensorflow as tf"
   ]
  },
  {
   "cell_type": "code",
   "execution_count": 2,
   "metadata": {},
   "outputs": [],
   "source": [
    "df = pd.read_csv(\"01_USDJPY_D.csv\", encoding=\"SHIFT-JIS\",sep = \",\")"
   ]
  },
  {
   "cell_type": "code",
   "execution_count": 3,
   "metadata": {},
   "outputs": [],
   "source": [
    "df.sort_index(ascending=False,inplace=True)\n",
    "df.drop([\"通貨ペア\"],axis=1,inplace=True)"
   ]
  },
  {
   "cell_type": "code",
   "execution_count": 4,
   "metadata": {},
   "outputs": [
    {
     "data": {
      "text/html": [
       "<div>\n",
       "<style scoped>\n",
       "    .dataframe tbody tr th:only-of-type {\n",
       "        vertical-align: middle;\n",
       "    }\n",
       "\n",
       "    .dataframe tbody tr th {\n",
       "        vertical-align: top;\n",
       "    }\n",
       "\n",
       "    .dataframe thead th {\n",
       "        text-align: right;\n",
       "    }\n",
       "</style>\n",
       "<table border=\"1\" class=\"dataframe\">\n",
       "  <thead>\n",
       "    <tr style=\"text-align: right;\">\n",
       "      <th></th>\n",
       "      <th>日付</th>\n",
       "      <th>始値</th>\n",
       "      <th>高値</th>\n",
       "      <th>安値</th>\n",
       "      <th>終値</th>\n",
       "    </tr>\n",
       "  </thead>\n",
       "  <tbody>\n",
       "    <tr>\n",
       "      <th>199</th>\n",
       "      <td>2018/10/04</td>\n",
       "      <td>114.441</td>\n",
       "      <td>114.549</td>\n",
       "      <td>113.632</td>\n",
       "      <td>113.939</td>\n",
       "    </tr>\n",
       "    <tr>\n",
       "      <th>198</th>\n",
       "      <td>2018/10/05</td>\n",
       "      <td>113.893</td>\n",
       "      <td>114.100</td>\n",
       "      <td>113.558</td>\n",
       "      <td>113.671</td>\n",
       "    </tr>\n",
       "    <tr>\n",
       "      <th>197</th>\n",
       "      <td>2018/10/08</td>\n",
       "      <td>113.729</td>\n",
       "      <td>113.943</td>\n",
       "      <td>112.821</td>\n",
       "      <td>113.221</td>\n",
       "    </tr>\n",
       "    <tr>\n",
       "      <th>196</th>\n",
       "      <td>2018/10/09</td>\n",
       "      <td>113.183</td>\n",
       "      <td>113.392</td>\n",
       "      <td>112.870</td>\n",
       "      <td>112.950</td>\n",
       "    </tr>\n",
       "    <tr>\n",
       "      <th>195</th>\n",
       "      <td>2018/10/10</td>\n",
       "      <td>112.950</td>\n",
       "      <td>113.286</td>\n",
       "      <td>112.292</td>\n",
       "      <td>112.304</td>\n",
       "    </tr>\n",
       "    <tr>\n",
       "      <th>194</th>\n",
       "      <td>2018/10/11</td>\n",
       "      <td>112.198</td>\n",
       "      <td>112.534</td>\n",
       "      <td>111.832</td>\n",
       "      <td>112.123</td>\n",
       "    </tr>\n",
       "    <tr>\n",
       "      <th>193</th>\n",
       "      <td>2018/10/12</td>\n",
       "      <td>112.143</td>\n",
       "      <td>112.495</td>\n",
       "      <td>111.880</td>\n",
       "      <td>112.179</td>\n",
       "    </tr>\n",
       "    <tr>\n",
       "      <th>192</th>\n",
       "      <td>2018/10/15</td>\n",
       "      <td>112.135</td>\n",
       "      <td>112.236</td>\n",
       "      <td>111.625</td>\n",
       "      <td>111.750</td>\n",
       "    </tr>\n",
       "    <tr>\n",
       "      <th>191</th>\n",
       "      <td>2018/10/16</td>\n",
       "      <td>111.756</td>\n",
       "      <td>112.336</td>\n",
       "      <td>111.727</td>\n",
       "      <td>112.264</td>\n",
       "    </tr>\n",
       "    <tr>\n",
       "      <th>190</th>\n",
       "      <td>2018/10/17</td>\n",
       "      <td>112.241</td>\n",
       "      <td>112.676</td>\n",
       "      <td>112.014</td>\n",
       "      <td>112.669</td>\n",
       "    </tr>\n",
       "  </tbody>\n",
       "</table>\n",
       "</div>"
      ],
      "text/plain": [
       "             日付       始値       高値       安値       終値\n",
       "199  2018/10/04  114.441  114.549  113.632  113.939\n",
       "198  2018/10/05  113.893  114.100  113.558  113.671\n",
       "197  2018/10/08  113.729  113.943  112.821  113.221\n",
       "196  2018/10/09  113.183  113.392  112.870  112.950\n",
       "195  2018/10/10  112.950  113.286  112.292  112.304\n",
       "194  2018/10/11  112.198  112.534  111.832  112.123\n",
       "193  2018/10/12  112.143  112.495  111.880  112.179\n",
       "192  2018/10/15  112.135  112.236  111.625  111.750\n",
       "191  2018/10/16  111.756  112.336  111.727  112.264\n",
       "190  2018/10/17  112.241  112.676  112.014  112.669"
      ]
     },
     "execution_count": 4,
     "metadata": {},
     "output_type": "execute_result"
    }
   ],
   "source": [
    "df.head(10)"
   ]
  },
  {
   "cell_type": "code",
   "execution_count": 5,
   "metadata": {},
   "outputs": [],
   "source": [
    "df_shift = df.copy()"
   ]
  },
  {
   "cell_type": "code",
   "execution_count": 6,
   "metadata": {},
   "outputs": [
    {
     "data": {
      "text/html": [
       "<div>\n",
       "<style scoped>\n",
       "    .dataframe tbody tr th:only-of-type {\n",
       "        vertical-align: middle;\n",
       "    }\n",
       "\n",
       "    .dataframe tbody tr th {\n",
       "        vertical-align: top;\n",
       "    }\n",
       "\n",
       "    .dataframe thead th {\n",
       "        text-align: right;\n",
       "    }\n",
       "</style>\n",
       "<table border=\"1\" class=\"dataframe\">\n",
       "  <thead>\n",
       "    <tr style=\"text-align: right;\">\n",
       "      <th></th>\n",
       "      <th>日付</th>\n",
       "      <th>始値</th>\n",
       "      <th>高値</th>\n",
       "      <th>安値</th>\n",
       "      <th>終値</th>\n",
       "    </tr>\n",
       "  </thead>\n",
       "  <tbody>\n",
       "    <tr>\n",
       "      <th>0</th>\n",
       "      <td>2018/10/04</td>\n",
       "      <td>114.441</td>\n",
       "      <td>114.549</td>\n",
       "      <td>113.632</td>\n",
       "      <td>113.939</td>\n",
       "    </tr>\n",
       "    <tr>\n",
       "      <th>1</th>\n",
       "      <td>2018/10/05</td>\n",
       "      <td>113.893</td>\n",
       "      <td>114.100</td>\n",
       "      <td>113.558</td>\n",
       "      <td>113.671</td>\n",
       "    </tr>\n",
       "    <tr>\n",
       "      <th>2</th>\n",
       "      <td>2018/10/08</td>\n",
       "      <td>113.729</td>\n",
       "      <td>113.943</td>\n",
       "      <td>112.821</td>\n",
       "      <td>113.221</td>\n",
       "    </tr>\n",
       "    <tr>\n",
       "      <th>3</th>\n",
       "      <td>2018/10/09</td>\n",
       "      <td>113.183</td>\n",
       "      <td>113.392</td>\n",
       "      <td>112.870</td>\n",
       "      <td>112.950</td>\n",
       "    </tr>\n",
       "    <tr>\n",
       "      <th>4</th>\n",
       "      <td>2018/10/10</td>\n",
       "      <td>112.950</td>\n",
       "      <td>113.286</td>\n",
       "      <td>112.292</td>\n",
       "      <td>112.304</td>\n",
       "    </tr>\n",
       "  </tbody>\n",
       "</table>\n",
       "</div>"
      ],
      "text/plain": [
       "           日付       始値       高値       安値       終値\n",
       "0  2018/10/04  114.441  114.549  113.632  113.939\n",
       "1  2018/10/05  113.893  114.100  113.558  113.671\n",
       "2  2018/10/08  113.729  113.943  112.821  113.221\n",
       "3  2018/10/09  113.183  113.392  112.870  112.950\n",
       "4  2018/10/10  112.950  113.286  112.292  112.304"
      ]
     },
     "execution_count": 6,
     "metadata": {},
     "output_type": "execute_result"
    }
   ],
   "source": [
    "df_shift.reset_index(drop=True,inplace=True)\n",
    "df_shift.head()"
   ]
  },
  {
   "cell_type": "code",
   "execution_count": 7,
   "metadata": {},
   "outputs": [],
   "source": [
    "df_shift.終値 = df_shift.終値.shift(-1)"
   ]
  },
  {
   "cell_type": "code",
   "execution_count": 8,
   "metadata": {},
   "outputs": [
    {
     "data": {
      "text/html": [
       "<div>\n",
       "<style scoped>\n",
       "    .dataframe tbody tr th:only-of-type {\n",
       "        vertical-align: middle;\n",
       "    }\n",
       "\n",
       "    .dataframe tbody tr th {\n",
       "        vertical-align: top;\n",
       "    }\n",
       "\n",
       "    .dataframe thead th {\n",
       "        text-align: right;\n",
       "    }\n",
       "</style>\n",
       "<table border=\"1\" class=\"dataframe\">\n",
       "  <thead>\n",
       "    <tr style=\"text-align: right;\">\n",
       "      <th></th>\n",
       "      <th>日付</th>\n",
       "      <th>始値</th>\n",
       "      <th>高値</th>\n",
       "      <th>安値</th>\n",
       "      <th>終値</th>\n",
       "    </tr>\n",
       "  </thead>\n",
       "  <tbody>\n",
       "    <tr>\n",
       "      <th>195</th>\n",
       "      <td>2019/07/05</td>\n",
       "      <td>107.783</td>\n",
       "      <td>108.636</td>\n",
       "      <td>107.767</td>\n",
       "      <td>108.729</td>\n",
       "    </tr>\n",
       "    <tr>\n",
       "      <th>196</th>\n",
       "      <td>2019/07/08</td>\n",
       "      <td>108.410</td>\n",
       "      <td>108.806</td>\n",
       "      <td>108.279</td>\n",
       "      <td>108.856</td>\n",
       "    </tr>\n",
       "    <tr>\n",
       "      <th>197</th>\n",
       "      <td>2019/07/09</td>\n",
       "      <td>108.683</td>\n",
       "      <td>108.963</td>\n",
       "      <td>108.660</td>\n",
       "      <td>108.466</td>\n",
       "    </tr>\n",
       "    <tr>\n",
       "      <th>198</th>\n",
       "      <td>2019/07/10</td>\n",
       "      <td>108.814</td>\n",
       "      <td>108.989</td>\n",
       "      <td>108.347</td>\n",
       "      <td>108.491</td>\n",
       "    </tr>\n",
       "    <tr>\n",
       "      <th>199</th>\n",
       "      <td>2019/07/11</td>\n",
       "      <td>108.396</td>\n",
       "      <td>108.533</td>\n",
       "      <td>107.858</td>\n",
       "      <td>NaN</td>\n",
       "    </tr>\n",
       "  </tbody>\n",
       "</table>\n",
       "</div>"
      ],
      "text/plain": [
       "             日付       始値       高値       安値       終値\n",
       "195  2019/07/05  107.783  108.636  107.767  108.729\n",
       "196  2019/07/08  108.410  108.806  108.279  108.856\n",
       "197  2019/07/09  108.683  108.963  108.660  108.466\n",
       "198  2019/07/10  108.814  108.989  108.347  108.491\n",
       "199  2019/07/11  108.396  108.533  107.858      NaN"
      ]
     },
     "execution_count": 8,
     "metadata": {},
     "output_type": "execute_result"
    }
   ],
   "source": [
    "df_shift.tail()"
   ]
  },
  {
   "cell_type": "code",
   "execution_count": 9,
   "metadata": {},
   "outputs": [],
   "source": [
    "df_shift = df_shift[:-1].copy()"
   ]
  },
  {
   "cell_type": "code",
   "execution_count": 10,
   "metadata": {},
   "outputs": [],
   "source": [
    "del df_shift[\"日付\"]"
   ]
  },
  {
   "cell_type": "code",
   "execution_count": 11,
   "metadata": {},
   "outputs": [
    {
     "data": {
      "text/html": [
       "<div>\n",
       "<style scoped>\n",
       "    .dataframe tbody tr th:only-of-type {\n",
       "        vertical-align: middle;\n",
       "    }\n",
       "\n",
       "    .dataframe tbody tr th {\n",
       "        vertical-align: top;\n",
       "    }\n",
       "\n",
       "    .dataframe thead th {\n",
       "        text-align: right;\n",
       "    }\n",
       "</style>\n",
       "<table border=\"1\" class=\"dataframe\">\n",
       "  <thead>\n",
       "    <tr style=\"text-align: right;\">\n",
       "      <th></th>\n",
       "      <th>始値</th>\n",
       "      <th>高値</th>\n",
       "      <th>安値</th>\n",
       "      <th>終値</th>\n",
       "    </tr>\n",
       "  </thead>\n",
       "  <tbody>\n",
       "    <tr>\n",
       "      <th>0</th>\n",
       "      <td>114.441</td>\n",
       "      <td>114.549</td>\n",
       "      <td>113.632</td>\n",
       "      <td>113.671</td>\n",
       "    </tr>\n",
       "    <tr>\n",
       "      <th>1</th>\n",
       "      <td>113.893</td>\n",
       "      <td>114.100</td>\n",
       "      <td>113.558</td>\n",
       "      <td>113.221</td>\n",
       "    </tr>\n",
       "    <tr>\n",
       "      <th>2</th>\n",
       "      <td>113.729</td>\n",
       "      <td>113.943</td>\n",
       "      <td>112.821</td>\n",
       "      <td>112.950</td>\n",
       "    </tr>\n",
       "    <tr>\n",
       "      <th>3</th>\n",
       "      <td>113.183</td>\n",
       "      <td>113.392</td>\n",
       "      <td>112.870</td>\n",
       "      <td>112.304</td>\n",
       "    </tr>\n",
       "    <tr>\n",
       "      <th>4</th>\n",
       "      <td>112.950</td>\n",
       "      <td>113.286</td>\n",
       "      <td>112.292</td>\n",
       "      <td>112.123</td>\n",
       "    </tr>\n",
       "  </tbody>\n",
       "</table>\n",
       "</div>"
      ],
      "text/plain": [
       "        始値       高値       安値       終値\n",
       "0  114.441  114.549  113.632  113.671\n",
       "1  113.893  114.100  113.558  113.221\n",
       "2  113.729  113.943  112.821  112.950\n",
       "3  113.183  113.392  112.870  112.304\n",
       "4  112.950  113.286  112.292  112.123"
      ]
     },
     "execution_count": 11,
     "metadata": {},
     "output_type": "execute_result"
    }
   ],
   "source": [
    "df2 = df_shift.copy()\n",
    "df2.head()"
   ]
  },
  {
   "cell_type": "markdown",
   "metadata": {},
   "source": [
    "## トレーニングデータとテストデータに分割"
   ]
  },
  {
   "cell_type": "code",
   "execution_count": 12,
   "metadata": {},
   "outputs": [],
   "source": [
    "train_start = 0\n",
    "train_end = int(np.floor(df2.shape[0]*0.8))\n",
    "test_start = train_end + 1\n",
    "test_end = int(df2.shape[0])"
   ]
  },
  {
   "cell_type": "code",
   "execution_count": 13,
   "metadata": {},
   "outputs": [],
   "source": [
    "data_train = df2.loc[np.arange(train_start, train_end), :]\n",
    "data_test = df2.loc[np.arange(test_start, test_end), :]"
   ]
  },
  {
   "cell_type": "code",
   "execution_count": 14,
   "metadata": {},
   "outputs": [
    {
     "data": {
      "text/html": [
       "<div>\n",
       "<style scoped>\n",
       "    .dataframe tbody tr th:only-of-type {\n",
       "        vertical-align: middle;\n",
       "    }\n",
       "\n",
       "    .dataframe tbody tr th {\n",
       "        vertical-align: top;\n",
       "    }\n",
       "\n",
       "    .dataframe thead th {\n",
       "        text-align: right;\n",
       "    }\n",
       "</style>\n",
       "<table border=\"1\" class=\"dataframe\">\n",
       "  <thead>\n",
       "    <tr style=\"text-align: right;\">\n",
       "      <th></th>\n",
       "      <th>始値</th>\n",
       "      <th>高値</th>\n",
       "      <th>安値</th>\n",
       "      <th>終値</th>\n",
       "    </tr>\n",
       "  </thead>\n",
       "  <tbody>\n",
       "    <tr>\n",
       "      <th>0</th>\n",
       "      <td>114.441</td>\n",
       "      <td>114.549</td>\n",
       "      <td>113.632</td>\n",
       "      <td>113.671</td>\n",
       "    </tr>\n",
       "    <tr>\n",
       "      <th>1</th>\n",
       "      <td>113.893</td>\n",
       "      <td>114.100</td>\n",
       "      <td>113.558</td>\n",
       "      <td>113.221</td>\n",
       "    </tr>\n",
       "    <tr>\n",
       "      <th>2</th>\n",
       "      <td>113.729</td>\n",
       "      <td>113.943</td>\n",
       "      <td>112.821</td>\n",
       "      <td>112.950</td>\n",
       "    </tr>\n",
       "    <tr>\n",
       "      <th>3</th>\n",
       "      <td>113.183</td>\n",
       "      <td>113.392</td>\n",
       "      <td>112.870</td>\n",
       "      <td>112.304</td>\n",
       "    </tr>\n",
       "    <tr>\n",
       "      <th>4</th>\n",
       "      <td>112.950</td>\n",
       "      <td>113.286</td>\n",
       "      <td>112.292</td>\n",
       "      <td>112.123</td>\n",
       "    </tr>\n",
       "  </tbody>\n",
       "</table>\n",
       "</div>"
      ],
      "text/plain": [
       "        始値       高値       安値       終値\n",
       "0  114.441  114.549  113.632  113.671\n",
       "1  113.893  114.100  113.558  113.221\n",
       "2  113.729  113.943  112.821  112.950\n",
       "3  113.183  113.392  112.870  112.304\n",
       "4  112.950  113.286  112.292  112.123"
      ]
     },
     "execution_count": 14,
     "metadata": {},
     "output_type": "execute_result"
    }
   ],
   "source": [
    "data_train.head()"
   ]
  },
  {
   "cell_type": "code",
   "execution_count": 15,
   "metadata": {},
   "outputs": [],
   "source": [
    "#データを最少-1,最大1で正規化\n",
    "scaler = MinMaxScaler(feature_range=(-1, 1))"
   ]
  },
  {
   "cell_type": "code",
   "execution_count": 16,
   "metadata": {},
   "outputs": [
    {
     "data": {
      "text/plain": [
       "MinMaxScaler(copy=True, feature_range=(-1, 1))"
      ]
     },
     "execution_count": 16,
     "metadata": {},
     "output_type": "execute_result"
    }
   ],
   "source": [
    "#配列data_trainの平均と分散を記憶\n",
    "scaler.fit(data_train)"
   ]
  },
  {
   "cell_type": "code",
   "execution_count": 17,
   "metadata": {},
   "outputs": [],
   "source": [
    "#data_trainを変換\n",
    "data_train_norm = scaler.transform(data_train)"
   ]
  },
  {
   "cell_type": "code",
   "execution_count": 18,
   "metadata": {},
   "outputs": [],
   "source": [
    "data_test_norm = scaler.transform(data_test)"
   ]
  },
  {
   "cell_type": "code",
   "execution_count": 19,
   "metadata": {},
   "outputs": [],
   "source": [
    "#X_train:材料データの配列(行は全部、列は1~)\n",
    "#Y_train:予測したいデータ配列(行は全部、列は0)\n",
    "X_train = data_train_norm[:, 1:]\n",
    "y_train = data_train_norm[:, 0]"
   ]
  },
  {
   "cell_type": "code",
   "execution_count": 20,
   "metadata": {},
   "outputs": [],
   "source": [
    "#テストデータも同様に\n",
    "X_test = data_test_norm[:, 1:]\n",
    "y_test = data_test_norm[:, 0]"
   ]
  },
  {
   "cell_type": "markdown",
   "metadata": {},
   "source": [
    "## Tensorflowで学習させる"
   ]
  },
  {
   "cell_type": "code",
   "execution_count": 21,
   "metadata": {},
   "outputs": [],
   "source": [
    "#tensorflowインスタンスの生成\n",
    "net = tf.InteractiveSession()"
   ]
  },
  {
   "cell_type": "code",
   "execution_count": 22,
   "metadata": {},
   "outputs": [],
   "source": [
    "#トレーニングデータの列数\n",
    "n_stocks = X_train.shape[1]\n",
    " \n",
    "# ニューロンの数を設定\n",
    "n_neurons_1 = 256\n",
    "n_neurons_2 = 128\n",
    "  \n",
    "# プレースホルダーの作成（データ格納予定地的な）\n",
    "X = tf.placeholder(dtype=tf.float32, shape=[None, n_stocks])\n",
    "Y = tf.placeholder(dtype=tf.float32, shape=[None])\n",
    " \n",
    "# 初期化\n",
    "sigma = 1\n",
    "weight_initializer = tf.variance_scaling_initializer(mode=\"fan_avg\", distribution=\"uniform\", scale=sigma)\n",
    "bias_initializer = tf.zeros_initializer()"
   ]
  },
  {
   "cell_type": "code",
   "execution_count": 23,
   "metadata": {},
   "outputs": [],
   "source": [
    "#重み、バイアスのオブジェクト(?)を生成\n",
    "W_hidden_1 = tf.Variable(weight_initializer([n_stocks, n_neurons_1]))\n",
    "bias_hidden_1 = tf.Variable(bias_initializer([n_neurons_1]))\n",
    "W_hidden_2 = tf.Variable(weight_initializer([n_neurons_1, n_neurons_2]))\n",
    "bias_hidden_2 = tf.Variable(bias_initializer([n_neurons_2]))"
   ]
  },
  {
   "cell_type": "code",
   "execution_count": 24,
   "metadata": {},
   "outputs": [],
   "source": [
    "#同様に出力の重みも,\n",
    "W_out = tf.Variable(weight_initializer([n_neurons_2, 1]))\n",
    "bias_out = tf.Variable(bias_initializer([1]))"
   ]
  },
  {
   "cell_type": "code",
   "execution_count": 25,
   "metadata": {},
   "outputs": [],
   "source": [
    "# 隠れ層の設定（ReLU＝活性化関数）\n",
    "hidden_1 = tf.nn.relu(tf.add(tf.matmul(X, W_hidden_1), bias_hidden_1))\n",
    "hidden_2 = tf.nn.relu(tf.add(tf.matmul(hidden_1, W_hidden_2), bias_hidden_2))\n",
    " \n",
    "# 出力層の設定\n",
    "out = tf.transpose(tf.add(tf.matmul(hidden_2, W_out), bias_out))"
   ]
  },
  {
   "cell_type": "code",
   "execution_count": 46,
   "metadata": {},
   "outputs": [],
   "source": [
    "#コスト関数\n",
    "mse = tf.reduce_mean(tf.squared_difference(out, Y))\n",
    "\n",
    "# 最適化関数\n",
    "opt = tf.train.AdamOptimizer().minimize(mse)\n",
    " \n",
    "summary_assign = tf.summary.scalar('assign_op',assign_op)\n",
    "summary_writer = tf.summary.FileWriter(\"./log_fx\" , net.graph)\n",
    "    \n",
    "# 初期化\n",
    "net.run(tf.global_variables_initializer())\n",
    "\n"
   ]
  },
  {
   "cell_type": "code",
   "execution_count": 47,
   "metadata": {},
   "outputs": [
    {
     "ename": "NameError",
     "evalue": "name 'i' is not defined",
     "output_type": "error",
     "traceback": [
      "\u001b[0;31m---------------------------------------------------------------------------\u001b[0m",
      "\u001b[0;31mNameError\u001b[0m                                 Traceback (most recent call last)",
      "\u001b[0;32m<ipython-input-47-470c553f7ed8>\u001b[0m in \u001b[0;36m<module>\u001b[0;34m\u001b[0m\n\u001b[1;32m      9\u001b[0m     \u001b[0mnet\u001b[0m\u001b[0;34m.\u001b[0m\u001b[0mrun\u001b[0m\u001b[0;34m(\u001b[0m\u001b[0mopt\u001b[0m\u001b[0;34m,\u001b[0m \u001b[0mfeed_dict\u001b[0m\u001b[0;34m=\u001b[0m\u001b[0;34m{\u001b[0m\u001b[0mX\u001b[0m\u001b[0;34m:\u001b[0m \u001b[0mX_train\u001b[0m\u001b[0;34m,\u001b[0m \u001b[0mY\u001b[0m\u001b[0;34m:\u001b[0m \u001b[0my_train\u001b[0m\u001b[0;34m}\u001b[0m\u001b[0;34m)\u001b[0m\u001b[0;34m\u001b[0m\u001b[0;34m\u001b[0m\u001b[0m\n\u001b[1;32m     10\u001b[0m     \u001b[0mloss_val\u001b[0m \u001b[0;34m=\u001b[0m \u001b[0mnet\u001b[0m\u001b[0;34m.\u001b[0m\u001b[0mrun\u001b[0m\u001b[0;34m(\u001b[0m\u001b[0mmse\u001b[0m\u001b[0;34m,\u001b[0m\u001b[0mfeed_dict\u001b[0m\u001b[0;34m=\u001b[0m\u001b[0;34m{\u001b[0m\u001b[0mX\u001b[0m\u001b[0;34m:\u001b[0m \u001b[0mX_train\u001b[0m\u001b[0;34m,\u001b[0m\u001b[0mY\u001b[0m\u001b[0;34m:\u001b[0m\u001b[0my_train\u001b[0m\u001b[0;34m}\u001b[0m\u001b[0;34m)\u001b[0m\u001b[0;34m\u001b[0m\u001b[0;34m\u001b[0m\u001b[0m\n\u001b[0;32m---> 11\u001b[0;31m     \u001b[0msummary_writer\u001b[0m\u001b[0;34m.\u001b[0m\u001b[0madd_summary\u001b[0m\u001b[0;34m(\u001b[0m\u001b[0mloss_val\u001b[0m\u001b[0;34m,\u001b[0m\u001b[0mi\u001b[0m\u001b[0;34m)\u001b[0m\u001b[0;34m\u001b[0m\u001b[0;34m\u001b[0m\u001b[0m\n\u001b[0m\u001b[1;32m     12\u001b[0m     \u001b[0mprint\u001b[0m\u001b[0;34m(\u001b[0m\u001b[0;34m\"Step: %d, Loss: %f\"\u001b[0m \u001b[0;34m%\u001b[0m \u001b[0;34m(\u001b[0m\u001b[0me\u001b[0m\u001b[0;34m,\u001b[0m\u001b[0mloss_val\u001b[0m\u001b[0;34m)\u001b[0m\u001b[0;34m)\u001b[0m\u001b[0;34m\u001b[0m\u001b[0;34m\u001b[0m\u001b[0m\n",
      "\u001b[0;31mNameError\u001b[0m: name 'i' is not defined"
     ]
    }
   ],
   "source": [
    "# ニューラルネットワークの設定\n",
    "batch_size = 128\n",
    "mse_train = []\n",
    "mse_test = []\n",
    " \n",
    "# 訓練開始！500回の反復処理\n",
    "epochs = 5000\n",
    "for e in range(epochs):\n",
    "    net.run(opt, feed_dict={X: X_train, Y: y_train})\n",
    "    loss_val = net.run(mse,feed_dict={X: X_train,Y:y_train})\n",
    "    summary_writer.add_summary(loss_val,i)\n",
    "    print(\"Step: %d, Loss: %f\" % (e,loss_val))"
   ]
  },
  {
   "cell_type": "code",
   "execution_count": 39,
   "metadata": {},
   "outputs": [
    {
     "data": {
      "text/plain": [
       "array([-0.38498566, -0.34150997], dtype=float32)"
      ]
     },
     "execution_count": 39,
     "metadata": {},
     "output_type": "execute_result"
    }
   ],
   "source": [
    "pred_test = net.run(out, feed_dict={X: X_test})\n",
    " \n",
    "# 予測データの最初の2つを表示\n",
    "pred_test[0][0:2]"
   ]
  },
  {
   "cell_type": "code",
   "execution_count": 40,
   "metadata": {},
   "outputs": [],
   "source": [
    "# 予測値をテストデータに戻そう（値も正規化からインバース）\n",
    "pred_test = np.concatenate((pred_test.T, X_test), axis=1)\n",
    "pred_inv = scaler.inverse_transform(pred_test)\n"
   ]
  },
  {
   "cell_type": "code",
   "execution_count": 41,
   "metadata": {},
   "outputs": [
    {
     "data": {
      "text/html": [
       "<div>\n",
       "<style scoped>\n",
       "    .dataframe tbody tr th:only-of-type {\n",
       "        vertical-align: middle;\n",
       "    }\n",
       "\n",
       "    .dataframe tbody tr th {\n",
       "        vertical-align: top;\n",
       "    }\n",
       "\n",
       "    .dataframe thead th {\n",
       "        text-align: right;\n",
       "    }\n",
       "</style>\n",
       "<table border=\"1\" class=\"dataframe\">\n",
       "  <thead>\n",
       "    <tr style=\"text-align: right;\">\n",
       "      <th></th>\n",
       "      <th>始値</th>\n",
       "      <th>高値</th>\n",
       "      <th>安値</th>\n",
       "      <th>終値</th>\n",
       "    </tr>\n",
       "  </thead>\n",
       "  <tbody>\n",
       "    <tr>\n",
       "      <th>198</th>\n",
       "      <td>108.814</td>\n",
       "      <td>108.989</td>\n",
       "      <td>108.347</td>\n",
       "      <td>108.491</td>\n",
       "    </tr>\n",
       "  </tbody>\n",
       "</table>\n",
       "</div>"
      ],
      "text/plain": [
       "          始値       高値       安値       終値\n",
       "198  108.814  108.989  108.347  108.491"
      ]
     },
     "execution_count": 41,
     "metadata": {},
     "output_type": "execute_result"
    }
   ],
   "source": [
    "# 元データの最後尾\n",
    "df_shift.tail(1)"
   ]
  },
  {
   "cell_type": "code",
   "execution_count": 42,
   "metadata": {},
   "outputs": [
    {
     "data": {
      "text/plain": [
       "array([[109.75628602, 110.189     , 109.493     , 110.045     ],\n",
       "       [109.90334253, 110.318     , 109.809     , 110.471     ],\n",
       "       [109.90466471, 110.671     , 110.009     , 110.346     ],\n",
       "       [110.31747409, 110.626     , 110.24      , 109.588     ],\n",
       "       [110.17546768, 110.364     , 109.457     , 109.291     ],\n",
       "       [109.551759  , 109.745     , 109.273     , 109.537     ],\n",
       "       [109.55844659, 109.584     , 109.253     , 109.349     ],\n",
       "       [109.65373773, 109.628     , 109.21      , 109.587     ],\n",
       "       [109.63572525, 109.698     , 109.148     , 109.617     ],\n",
       "       [109.36761956, 109.927     , 109.474     , 108.346     ],\n",
       "       [109.59649525, 109.608     , 108.337     , 108.061     ],\n",
       "       [108.31488125, 108.446     , 107.882     , 108.135     ],\n",
       "       [108.48193472, 108.358     , 107.845     , 108.454     ],\n",
       "       [108.39751504, 108.485     , 107.812     , 108.389     ],\n",
       "       [108.36823402, 108.562     , 108.023     , 108.176     ],\n",
       "       [108.40367088, 108.616     , 107.88      , 108.457     ],\n",
       "       [108.81838117, 108.715     , 108.313     , 108.513     ],\n",
       "       [108.73487641, 108.8       , 108.349     , 108.506     ],\n",
       "       [108.74102237, 108.563     , 108.216     , 108.392     ],\n",
       "       [108.89587384, 108.537     , 108.163     , 108.544     ],\n",
       "       [108.82140576, 108.588     , 108.156     , 108.526     ],\n",
       "       [108.81521484, 108.723     , 108.479     , 108.425     ],\n",
       "       [108.3523804 , 108.678     , 108.059     , 108.099     ],\n",
       "       [108.36048302, 108.616     , 107.901     , 107.314     ],\n",
       "       [108.53856611, 108.142     , 107.212     , 107.328     ],\n",
       "       [107.99562026, 107.736     , 107.049     , 107.296     ],\n",
       "       [107.72858019, 107.536     , 107.248     , 107.159     ],\n",
       "       [107.17986459, 107.409     , 106.777     , 107.782     ],\n",
       "       [107.89805987, 107.849     , 107.088     , 107.783     ],\n",
       "       [108.11224878, 108.163     , 107.65      , 107.858     ],\n",
       "       [107.86492482, 107.906     , 107.561     , 108.43      ],\n",
       "       [108.29950969, 108.533     , 108.102     , 107.909     ],\n",
       "       [108.16423986, 108.474     , 107.765     , 107.83      ],\n",
       "       [108.17426888, 107.91      , 107.534     , 107.791     ],\n",
       "       [108.05537444, 107.842     , 107.708     , 108.491     ],\n",
       "       [107.76346242, 108.636     , 107.767     , 108.729     ],\n",
       "       [109.02695153, 108.806     , 108.279     , 108.856     ],\n",
       "       [108.82153842, 108.963     , 108.66      , 108.466     ],\n",
       "       [108.58349389, 108.989     , 108.347     , 108.491     ]])"
      ]
     },
     "execution_count": 42,
     "metadata": {},
     "output_type": "execute_result"
    }
   ],
   "source": [
    "pred_inv"
   ]
  },
  {
   "cell_type": "code",
   "execution_count": 43,
   "metadata": {},
   "outputs": [
    {
     "name": "stdout",
     "output_type": "stream",
     "text": [
      "[109.53  109.927 109.474 108.346]\n",
      "[109.53  109.927 109.474 108.346]\n",
      "[109.36761956 109.927      109.474      108.346     ]\n"
     ]
    }
   ],
   "source": [
    "y_test = y_test.reshape(39, 1)\n",
    "test_inv = np.concatenate((y_test, X_test), axis=1)\n",
    "\n",
    "test_inv = scaler.inverse_transform(test_inv)\n",
    "\n",
    "# テストデータの最後のデータ（正規化前）\n",
    "print(data_test.values[9])\n",
    " \n",
    "# テストデータの最後のデータ（正規化を戻した後）\n",
    "print(test_inv[9])\n",
    " \n",
    "# モデルが予測したデータ\n",
    "print(pred_inv[9])"
   ]
  },
  {
   "cell_type": "code",
   "execution_count": 44,
   "metadata": {},
   "outputs": [
    {
     "data": {
      "image/png": "[encoded data removed]",
      "text/plain": [
       "<Figure size 432x288 with 1 Axes>"
      ]
     },
     "metadata": {
      "needs_background": "light"
     },
     "output_type": "display_data"
    }
   ],
   "source": [
    "# 予測と実際のテストの終値のチャートをプロットしてみよう\n",
    "plt.ion()\n",
    "fig = plt.figure()\n",
    "ax1 = fig.add_subplot(111)\n",
    "line1, = ax1.plot(test_inv[:,0])\n",
    "line2, = ax1.plot(pred_inv[:,0])\n",
    "plt.show()"
   ]
  },
  {
   "cell_type": "code",
   "execution_count": 45,
   "metadata": {},
   "outputs": [
    {
     "name": "stdout",
     "output_type": "stream",
     "text": [
      "0.061897771146817146\n"
     ]
    }
   ],
   "source": [
    "mae_test = mean_absolute_error(test_inv, pred_inv)\n",
    "print(mae_test)"
   ]
  },
  {
   "cell_type": "code",
   "execution_count": 35,
   "metadata": {},
   "outputs": [
    {
     "data": {
      "text/plain": [
       "array([109.823, 110.051, 110.034, 110.457, 110.285, 109.569, 109.293,\n",
       "       109.495, 109.347, 109.53 , 109.584, 108.29 , 108.04 , 108.111,\n",
       "       108.414, 108.336, 108.443, 108.414, 108.505, 108.45 , 108.35 ,\n",
       "       108.479, 108.512, 108.417, 108.057, 107.264, 107.263, 107.253,\n",
       "       107.144, 107.749, 107.784, 108.196, 108.421, 107.875, 107.781,\n",
       "       107.783, 108.41 , 108.683, 108.814])"
      ]
     },
     "execution_count": 35,
     "metadata": {},
     "output_type": "execute_result"
    }
   ],
   "source": [
    "test_inv[:,0]"
   ]
  },
  {
   "cell_type": "code",
   "execution_count": 36,
   "metadata": {},
   "outputs": [
    {
     "data": {
      "text/plain": [
       "array([109.78601482, 109.99021362, 110.24950022, 110.47570716,\n",
       "       110.06320528, 109.55870516, 109.48472489, 109.4968773 ,\n",
       "       109.46307854, 109.7840499 , 109.32335065, 108.23236177,\n",
       "       108.16078301, 108.17430698, 108.35050137, 108.25876961,\n",
       "       108.60971766, 108.6459398 , 108.50153833, 108.46875005,\n",
       "       108.47431698, 108.69343693, 108.39500415, 108.34536106,\n",
       "       107.82936699, 107.48723324, 107.51302798, 107.03290384,\n",
       "       107.45335344, 107.9932005 , 107.77116805, 108.34627839,\n",
       "       108.16045579, 107.85042443, 107.87965545, 108.10683548,\n",
       "       108.60770758, 108.85259868, 108.68275368])"
      ]
     },
     "execution_count": 36,
     "metadata": {},
     "output_type": "execute_result"
    }
   ],
   "source": [
    "pred_inv[:,0]"
   ]
  },
  {
   "cell_type": "code",
   "execution_count": null,
   "metadata": {},
   "outputs": [],
   "source": []
  },
  {
   "cell_type": "code",
   "execution_count": null,
   "metadata": {},
   "outputs": [],
   "source": []
  }
 ],
 "metadata": {
  "kernelspec": {
   "display_name": "Python 3",
   "language": "python",
   "name": "python3"
  },
  "language_info": {
   "codemirror_mode": {
    "name": "ipython",
    "version": 3
   },
   "file_extension": ".py",
   "mimetype": "text/x-python",
   "name": "python",
   "nbconvert_exporter": "python",
   "pygments_lexer": "ipython3",
   "version": "3.7.2"
  },
  "varInspector": {
   "cols": {
    "lenName": 16,
    "lenType": 16,
    "lenVar": 40
   },
   "kernels_config": {
    "python": {
     "delete_cmd_postfix": "",
     "delete_cmd_prefix": "del ",
     "library": "var_list.py",
     "varRefreshCmd": "print(var_dic_list())"
    },
    "r": {
     "delete_cmd_postfix": ") ",
     "delete_cmd_prefix": "rm(",
     "library": "var_list.r",
     "varRefreshCmd": "cat(var_dic_list()) "
    }
   },
   "position": {
    "height": "305px",
    "left": "1027px",
    "right": "20px",
    "top": "169px",
    "width": "327px"
   },
   "types_to_exclude": [
    "module",
    "function",
    "builtin_function_or_method",
    "instance",
    "_Feature"
   ],
   "window_display": true
  }
 },
 "nbformat": 4,
 "nbformat_minor": 4
}
